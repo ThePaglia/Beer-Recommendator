{
 "cells": [
  {
   "cell_type": "markdown",
   "metadata": {},
   "source": [
    "# Beer Wizard\n",
    "### Programma che classifica per stile una birra in base alle caratteristiche fornite\n",
    "\\\n",
    "Progetto d'esame di Programmazione di Applicazioni Data Intensive \\\n",
    "a.a. 2023/2024 \\\n",
    "DISI - Università di Bologna, Cesena \\\n",
    "**Realizzato da:**\n",
    "* Martino Pagliarani 0001028890 martino.pagliarani@studio.unibo.it\n"
   ]
  },
  {
   "cell_type": "markdown",
   "metadata": {},
   "source": [
    "### Inizializzazione dell'ambiente\n",
    "Il primo passo è quello di analizzare i dati, per farlo è necessario importare le seguenti librerie:\n",
    "* *numpy* &rarr; utilizzato per l'analisi numerica dei dati sotto forma di array\n",
    "* *pandas* &rarr; utilizzato per l'analisi numerica dei dati sotto forma di tabelle\n",
    "* *pyplot* &rarr; utilizzato per la visualizzazione dei dati sotto forma di grafici"
   ]
  },
  {
   "cell_type": "code",
   "execution_count": 762,
   "metadata": {},
   "outputs": [],
   "source": [
    "%matplotlib inline\n",
    "import numpy as np\n",
    "import pandas as pd\n",
    "import matplotlib.pyplot as plt\n",
    "import sklearn as skl"
   ]
  },
  {
   "cell_type": "markdown",
   "metadata": {},
   "source": [
    "### Caricamento dei dati\n",
    "Carichiamo i dati da [Kaggle](https://www.kaggle.com/datasets/stephenpolozoff/top-beer-information?select=beer_data_set.csv \"Title\"). \\\n",
    "Al momento della scrittura, l'ultimo update del dataset risale al 2021 e contiene 5317 birre e le tutte le informazioni relative ad esse. Il dataset è stato ricavato dal sito: [BeerAdvocate](https://www.beeradvocate.com). \\\n",
    "Ogni birra contiene i seguenti dati:\n",
    "* `Name` &rarr; nome della birra\n",
    "* `key` &rarr; chiave univoca della birra\n",
    "* `Style` &rarr; stile della birra\n",
    "* `Style_key` &rarr; chiave univoca dello stile della birra\n",
    "* `Brewery` &rarr; birrificio che produce la birra\n",
    "* `Description` &rarr; descrizione della birra\n",
    "* `ABV` &rarr; \"Alcohol By Volume\" gradazione alcolica della birra\n",
    "* `Avg Rating` &rarr; valutazione media della birra\n",
    "* `Min IBU` &rarr; valore minimo dell'indice di amarezza\n",
    "* `Max IBU` &rarr; valore massimo dell'indice di amarezza\n",
    "* `Astringency` &rarr; astringenza della birra\n",
    "* `Body` &rarr; corpo della birra\n",
    "* `Alcohol` &rarr; quanto si sente l'alcol nella birra\n",
    "* `Bitter` &rarr; amarezza della birra\n",
    "* `Sweet` &rarr; dolcezza della birra\n",
    "* `Sour` &rarr; acidità della birra\n",
    "* `Salty` &rarr; quanto è salata la birra\n",
    "* `Fruits` &rarr; quanto è fruttata la birra\n",
    "* `Hoppy` &rarr; quanto è luppolata la birra\n",
    "* `Spices` &rarr; quanto è speziata la birra\n",
    "* `Malty` &rarr; quanto è maltata la birra"
   ]
  },
  {
   "cell_type": "code",
   "execution_count": 763,
   "metadata": {},
   "outputs": [],
   "source": [
    "import os.path\n",
    "file = \"./beer_data_set.csv\"\n",
    "if not os.path.exists(file):\n",
    "    print(\"Missing dataset, download it manually from Kaggle: https://www.kaggle.com/datasets/stephenpolozoff/top-beer-information?select=beer_data_set.csv\")\n",
    "\n",
    "beer = pd.read_csv(file, index_col=1)"
   ]
  },
  {
   "cell_type": "markdown",
   "metadata": {},
   "source": [
    "Per prima cosa vediamo se ci sono dei valori null e qualcosa ci siano li eliminiamo."
   ]
  },
  {
   "cell_type": "code",
   "execution_count": 764,
   "metadata": {},
   "outputs": [
    {
     "data": {
      "text/plain": [
       "Name           2\n",
       "Style          0\n",
       "Style Key      0\n",
       "Brewery        0\n",
       "Description    0\n",
       "ABV            0\n",
       "Ave Rating     0\n",
       "Min IBU        0\n",
       "Max IBU        0\n",
       "Astringency    0\n",
       "Body           0\n",
       "Alcohol        0\n",
       "Bitter         0\n",
       "Sweet          0\n",
       "Sour           0\n",
       "Salty          0\n",
       "Fruits         0\n",
       "Hoppy          0\n",
       "Spices         0\n",
       "Malty          0\n",
       "dtype: int64"
      ]
     },
     "execution_count": 764,
     "metadata": {},
     "output_type": "execute_result"
    }
   ],
   "source": [
    "beer.isnull().sum()"
   ]
  },
  {
   "cell_type": "code",
   "execution_count": 765,
   "metadata": {},
   "outputs": [
    {
     "name": "stdout",
     "output_type": "stream",
     "text": [
      "Name           0\n",
      "Style          0\n",
      "Style Key      0\n",
      "Brewery        0\n",
      "Description    0\n",
      "ABV            0\n",
      "Ave Rating     0\n",
      "Min IBU        0\n",
      "Max IBU        0\n",
      "Astringency    0\n",
      "Body           0\n",
      "Alcohol        0\n",
      "Bitter         0\n",
      "Sweet          0\n",
      "Sour           0\n",
      "Salty          0\n",
      "Fruits         0\n",
      "Hoppy          0\n",
      "Spices         0\n",
      "Malty          0\n",
      "dtype: int64\n"
     ]
    }
   ],
   "source": [
    "beer = beer.dropna()\n",
    "print(beer.isnull().sum())"
   ]
  },
  {
   "cell_type": "code",
   "execution_count": 766,
   "metadata": {},
   "outputs": [
    {
     "data": {
      "text/html": [
       "<div>\n",
       "<style scoped>\n",
       "    .dataframe tbody tr th:only-of-type {\n",
       "        vertical-align: middle;\n",
       "    }\n",
       "\n",
       "    .dataframe tbody tr th {\n",
       "        vertical-align: top;\n",
       "    }\n",
       "\n",
       "    .dataframe thead th {\n",
       "        text-align: right;\n",
       "    }\n",
       "</style>\n",
       "<table border=\"1\" class=\"dataframe\">\n",
       "  <thead>\n",
       "    <tr style=\"text-align: right;\">\n",
       "      <th></th>\n",
       "      <th>Name</th>\n",
       "      <th>Style</th>\n",
       "      <th>Style Key</th>\n",
       "      <th>Brewery</th>\n",
       "      <th>Description</th>\n",
       "      <th>ABV</th>\n",
       "      <th>Ave Rating</th>\n",
       "      <th>Min IBU</th>\n",
       "      <th>Max IBU</th>\n",
       "      <th>Astringency</th>\n",
       "      <th>Body</th>\n",
       "      <th>Alcohol</th>\n",
       "      <th>Bitter</th>\n",
       "      <th>Sweet</th>\n",
       "      <th>Sour</th>\n",
       "      <th>Salty</th>\n",
       "      <th>Fruits</th>\n",
       "      <th>Hoppy</th>\n",
       "      <th>Spices</th>\n",
       "      <th>Malty</th>\n",
       "    </tr>\n",
       "    <tr>\n",
       "      <th>key</th>\n",
       "      <th></th>\n",
       "      <th></th>\n",
       "      <th></th>\n",
       "      <th></th>\n",
       "      <th></th>\n",
       "      <th></th>\n",
       "      <th></th>\n",
       "      <th></th>\n",
       "      <th></th>\n",
       "      <th></th>\n",
       "      <th></th>\n",
       "      <th></th>\n",
       "      <th></th>\n",
       "      <th></th>\n",
       "      <th></th>\n",
       "      <th></th>\n",
       "      <th></th>\n",
       "      <th></th>\n",
       "      <th></th>\n",
       "      <th></th>\n",
       "    </tr>\n",
       "  </thead>\n",
       "  <tbody>\n",
       "    <tr>\n",
       "      <th>251</th>\n",
       "      <td>Amber</td>\n",
       "      <td>Altbier</td>\n",
       "      <td>8</td>\n",
       "      <td>Alaskan Brewing Co.</td>\n",
       "      <td>Notes:Richly malty and long on the palate, wit...</td>\n",
       "      <td>5.3</td>\n",
       "      <td>3.65</td>\n",
       "      <td>25</td>\n",
       "      <td>50</td>\n",
       "      <td>13</td>\n",
       "      <td>32</td>\n",
       "      <td>9</td>\n",
       "      <td>47</td>\n",
       "      <td>74</td>\n",
       "      <td>33</td>\n",
       "      <td>0</td>\n",
       "      <td>33</td>\n",
       "      <td>57</td>\n",
       "      <td>8</td>\n",
       "      <td>111</td>\n",
       "    </tr>\n",
       "    <tr>\n",
       "      <th>252</th>\n",
       "      <td>Double Bag</td>\n",
       "      <td>Altbier</td>\n",
       "      <td>8</td>\n",
       "      <td>Long Trail Brewing Co.</td>\n",
       "      <td>Notes:This malty, full-bodied double alt is al...</td>\n",
       "      <td>7.2</td>\n",
       "      <td>3.90</td>\n",
       "      <td>25</td>\n",
       "      <td>50</td>\n",
       "      <td>12</td>\n",
       "      <td>57</td>\n",
       "      <td>18</td>\n",
       "      <td>33</td>\n",
       "      <td>55</td>\n",
       "      <td>16</td>\n",
       "      <td>0</td>\n",
       "      <td>24</td>\n",
       "      <td>35</td>\n",
       "      <td>12</td>\n",
       "      <td>84</td>\n",
       "    </tr>\n",
       "    <tr>\n",
       "      <th>253</th>\n",
       "      <td>Long Trail Ale</td>\n",
       "      <td>Altbier</td>\n",
       "      <td>8</td>\n",
       "      <td>Long Trail Brewing Co.</td>\n",
       "      <td>Notes:Long Trail Ale is a full-bodied amber al...</td>\n",
       "      <td>5.0</td>\n",
       "      <td>3.58</td>\n",
       "      <td>25</td>\n",
       "      <td>50</td>\n",
       "      <td>14</td>\n",
       "      <td>37</td>\n",
       "      <td>6</td>\n",
       "      <td>42</td>\n",
       "      <td>43</td>\n",
       "      <td>11</td>\n",
       "      <td>0</td>\n",
       "      <td>10</td>\n",
       "      <td>54</td>\n",
       "      <td>4</td>\n",
       "      <td>62</td>\n",
       "    </tr>\n",
       "    <tr>\n",
       "      <th>254</th>\n",
       "      <td>Doppelsticke</td>\n",
       "      <td>Altbier</td>\n",
       "      <td>8</td>\n",
       "      <td>Uerige Obergärige Hausbrauerei</td>\n",
       "      <td>Notes:</td>\n",
       "      <td>8.5</td>\n",
       "      <td>4.15</td>\n",
       "      <td>25</td>\n",
       "      <td>50</td>\n",
       "      <td>13</td>\n",
       "      <td>55</td>\n",
       "      <td>31</td>\n",
       "      <td>47</td>\n",
       "      <td>101</td>\n",
       "      <td>18</td>\n",
       "      <td>1</td>\n",
       "      <td>49</td>\n",
       "      <td>40</td>\n",
       "      <td>16</td>\n",
       "      <td>119</td>\n",
       "    </tr>\n",
       "    <tr>\n",
       "      <th>255</th>\n",
       "      <td>Scurry</td>\n",
       "      <td>Altbier</td>\n",
       "      <td>8</td>\n",
       "      <td>Off Color Brewing</td>\n",
       "      <td>Notes:Just cause it's dark and German doesn't ...</td>\n",
       "      <td>5.3</td>\n",
       "      <td>3.67</td>\n",
       "      <td>25</td>\n",
       "      <td>50</td>\n",
       "      <td>21</td>\n",
       "      <td>69</td>\n",
       "      <td>10</td>\n",
       "      <td>63</td>\n",
       "      <td>120</td>\n",
       "      <td>14</td>\n",
       "      <td>0</td>\n",
       "      <td>19</td>\n",
       "      <td>36</td>\n",
       "      <td>15</td>\n",
       "      <td>218</td>\n",
       "    </tr>\n",
       "  </tbody>\n",
       "</table>\n",
       "</div>"
      ],
      "text/plain": [
       "               Name    Style  Style Key                         Brewery  \\\n",
       "key                                                                       \n",
       "251           Amber  Altbier          8             Alaskan Brewing Co.   \n",
       "252      Double Bag  Altbier          8          Long Trail Brewing Co.   \n",
       "253  Long Trail Ale  Altbier          8          Long Trail Brewing Co.   \n",
       "254    Doppelsticke  Altbier          8  Uerige Obergärige Hausbrauerei   \n",
       "255          Scurry  Altbier          8               Off Color Brewing   \n",
       "\n",
       "                                           Description  ABV  Ave Rating  \\\n",
       "key                                                                       \n",
       "251  Notes:Richly malty and long on the palate, wit...  5.3        3.65   \n",
       "252  Notes:This malty, full-bodied double alt is al...  7.2        3.90   \n",
       "253  Notes:Long Trail Ale is a full-bodied amber al...  5.0        3.58   \n",
       "254                                             Notes:  8.5        4.15   \n",
       "255  Notes:Just cause it's dark and German doesn't ...  5.3        3.67   \n",
       "\n",
       "     Min IBU  Max IBU  Astringency  Body  Alcohol  Bitter  Sweet  Sour  Salty  \\\n",
       "key                                                                             \n",
       "251       25       50           13    32        9      47     74    33      0   \n",
       "252       25       50           12    57       18      33     55    16      0   \n",
       "253       25       50           14    37        6      42     43    11      0   \n",
       "254       25       50           13    55       31      47    101    18      1   \n",
       "255       25       50           21    69       10      63    120    14      0   \n",
       "\n",
       "     Fruits  Hoppy  Spices  Malty  \n",
       "key                                \n",
       "251      33     57       8    111  \n",
       "252      24     35      12     84  \n",
       "253      10     54       4     62  \n",
       "254      49     40      16    119  \n",
       "255      19     36      15    218  "
      ]
     },
     "execution_count": 766,
     "metadata": {},
     "output_type": "execute_result"
    }
   ],
   "source": [
    "beer.head()"
   ]
  },
  {
   "cell_type": "markdown",
   "metadata": {},
   "source": [
    "Per il nostro specifico caso d'uso, non ci interessano tutti i dati presenti nel dataset, quindi rimuoviamo i dati non necessari."
   ]
  },
  {
   "cell_type": "code",
   "execution_count": 767,
   "metadata": {},
   "outputs": [],
   "source": [
    "beer.drop(columns=[\"Style Key\", \"Brewery\", \"Description\"], inplace=True)"
   ]
  },
  {
   "cell_type": "code",
   "execution_count": 768,
   "metadata": {},
   "outputs": [
    {
     "data": {
      "text/html": [
       "<div>\n",
       "<style scoped>\n",
       "    .dataframe tbody tr th:only-of-type {\n",
       "        vertical-align: middle;\n",
       "    }\n",
       "\n",
       "    .dataframe tbody tr th {\n",
       "        vertical-align: top;\n",
       "    }\n",
       "\n",
       "    .dataframe thead th {\n",
       "        text-align: right;\n",
       "    }\n",
       "</style>\n",
       "<table border=\"1\" class=\"dataframe\">\n",
       "  <thead>\n",
       "    <tr style=\"text-align: right;\">\n",
       "      <th></th>\n",
       "      <th>Name</th>\n",
       "      <th>Style</th>\n",
       "      <th>ABV</th>\n",
       "      <th>Ave Rating</th>\n",
       "      <th>Min IBU</th>\n",
       "      <th>Max IBU</th>\n",
       "      <th>Astringency</th>\n",
       "      <th>Body</th>\n",
       "      <th>Alcohol</th>\n",
       "      <th>Bitter</th>\n",
       "      <th>Sweet</th>\n",
       "      <th>Sour</th>\n",
       "      <th>Salty</th>\n",
       "      <th>Fruits</th>\n",
       "      <th>Hoppy</th>\n",
       "      <th>Spices</th>\n",
       "      <th>Malty</th>\n",
       "    </tr>\n",
       "    <tr>\n",
       "      <th>key</th>\n",
       "      <th></th>\n",
       "      <th></th>\n",
       "      <th></th>\n",
       "      <th></th>\n",
       "      <th></th>\n",
       "      <th></th>\n",
       "      <th></th>\n",
       "      <th></th>\n",
       "      <th></th>\n",
       "      <th></th>\n",
       "      <th></th>\n",
       "      <th></th>\n",
       "      <th></th>\n",
       "      <th></th>\n",
       "      <th></th>\n",
       "      <th></th>\n",
       "      <th></th>\n",
       "    </tr>\n",
       "  </thead>\n",
       "  <tbody>\n",
       "    <tr>\n",
       "      <th>251</th>\n",
       "      <td>Amber</td>\n",
       "      <td>Altbier</td>\n",
       "      <td>5.3</td>\n",
       "      <td>3.65</td>\n",
       "      <td>25</td>\n",
       "      <td>50</td>\n",
       "      <td>13</td>\n",
       "      <td>32</td>\n",
       "      <td>9</td>\n",
       "      <td>47</td>\n",
       "      <td>74</td>\n",
       "      <td>33</td>\n",
       "      <td>0</td>\n",
       "      <td>33</td>\n",
       "      <td>57</td>\n",
       "      <td>8</td>\n",
       "      <td>111</td>\n",
       "    </tr>\n",
       "  </tbody>\n",
       "</table>\n",
       "</div>"
      ],
      "text/plain": [
       "      Name    Style  ABV  Ave Rating  Min IBU  Max IBU  Astringency  Body  \\\n",
       "key                                                                         \n",
       "251  Amber  Altbier  5.3        3.65       25       50           13    32   \n",
       "\n",
       "     Alcohol  Bitter  Sweet  Sour  Salty  Fruits  Hoppy  Spices  Malty  \n",
       "key                                                                     \n",
       "251        9      47     74    33      0      33     57       8    111  "
      ]
     },
     "execution_count": 768,
     "metadata": {},
     "output_type": "execute_result"
    }
   ],
   "source": [
    "beer.head(1)"
   ]
  },
  {
   "cell_type": "markdown",
   "metadata": {},
   "source": [
    "Inoltre vogliamo creare una nuova variabile chiamata `Avg IBU` che rappresenta la media tra `Min IBU` e `Max IBU` e eliminare le due variabili. Infine riordiniamo le colonne."
   ]
  },
  {
   "cell_type": "code",
   "execution_count": 769,
   "metadata": {},
   "outputs": [],
   "source": [
    "beer[\"Avg IBU\"] = beer[[\"Min IBU\", \"Max IBU\"]].mean(axis=1)\n",
    "beer = beer[beer[\"Style\"] != \"Lambic - Faro\"]\n",
    "beer.drop(columns=[\"Min IBU\", \"Max IBU\"], inplace=True)\n",
    "beer = beer.rename(columns={\"Ave Rating\": \"Avg Rating\"})\n",
    "beer = beer[[\"Name\", \"Style\", \"Avg IBU\", \"Avg Rating\", \"ABV\", \"Astringency\", \"Body\", \"Alcohol\", \"Bitter\", \"Sweet\", \"Sour\", \"Salty\", \"Fruits\", \"Hoppy\", \"Spices\", \"Malty\"]]"
   ]
  },
  {
   "cell_type": "code",
   "execution_count": 770,
   "metadata": {},
   "outputs": [
    {
     "data": {
      "text/html": [
       "<div>\n",
       "<style scoped>\n",
       "    .dataframe tbody tr th:only-of-type {\n",
       "        vertical-align: middle;\n",
       "    }\n",
       "\n",
       "    .dataframe tbody tr th {\n",
       "        vertical-align: top;\n",
       "    }\n",
       "\n",
       "    .dataframe thead th {\n",
       "        text-align: right;\n",
       "    }\n",
       "</style>\n",
       "<table border=\"1\" class=\"dataframe\">\n",
       "  <thead>\n",
       "    <tr style=\"text-align: right;\">\n",
       "      <th></th>\n",
       "      <th>Name</th>\n",
       "      <th>Style</th>\n",
       "      <th>Avg IBU</th>\n",
       "      <th>Avg Rating</th>\n",
       "      <th>ABV</th>\n",
       "      <th>Astringency</th>\n",
       "      <th>Body</th>\n",
       "      <th>Alcohol</th>\n",
       "      <th>Bitter</th>\n",
       "      <th>Sweet</th>\n",
       "      <th>Sour</th>\n",
       "      <th>Salty</th>\n",
       "      <th>Fruits</th>\n",
       "      <th>Hoppy</th>\n",
       "      <th>Spices</th>\n",
       "      <th>Malty</th>\n",
       "    </tr>\n",
       "    <tr>\n",
       "      <th>key</th>\n",
       "      <th></th>\n",
       "      <th></th>\n",
       "      <th></th>\n",
       "      <th></th>\n",
       "      <th></th>\n",
       "      <th></th>\n",
       "      <th></th>\n",
       "      <th></th>\n",
       "      <th></th>\n",
       "      <th></th>\n",
       "      <th></th>\n",
       "      <th></th>\n",
       "      <th></th>\n",
       "      <th></th>\n",
       "      <th></th>\n",
       "      <th></th>\n",
       "    </tr>\n",
       "  </thead>\n",
       "  <tbody>\n",
       "    <tr>\n",
       "      <th>251</th>\n",
       "      <td>Amber</td>\n",
       "      <td>Altbier</td>\n",
       "      <td>37.5</td>\n",
       "      <td>3.65</td>\n",
       "      <td>5.3</td>\n",
       "      <td>13</td>\n",
       "      <td>32</td>\n",
       "      <td>9</td>\n",
       "      <td>47</td>\n",
       "      <td>74</td>\n",
       "      <td>33</td>\n",
       "      <td>0</td>\n",
       "      <td>33</td>\n",
       "      <td>57</td>\n",
       "      <td>8</td>\n",
       "      <td>111</td>\n",
       "    </tr>\n",
       "    <tr>\n",
       "      <th>252</th>\n",
       "      <td>Double Bag</td>\n",
       "      <td>Altbier</td>\n",
       "      <td>37.5</td>\n",
       "      <td>3.90</td>\n",
       "      <td>7.2</td>\n",
       "      <td>12</td>\n",
       "      <td>57</td>\n",
       "      <td>18</td>\n",
       "      <td>33</td>\n",
       "      <td>55</td>\n",
       "      <td>16</td>\n",
       "      <td>0</td>\n",
       "      <td>24</td>\n",
       "      <td>35</td>\n",
       "      <td>12</td>\n",
       "      <td>84</td>\n",
       "    </tr>\n",
       "    <tr>\n",
       "      <th>253</th>\n",
       "      <td>Long Trail Ale</td>\n",
       "      <td>Altbier</td>\n",
       "      <td>37.5</td>\n",
       "      <td>3.58</td>\n",
       "      <td>5.0</td>\n",
       "      <td>14</td>\n",
       "      <td>37</td>\n",
       "      <td>6</td>\n",
       "      <td>42</td>\n",
       "      <td>43</td>\n",
       "      <td>11</td>\n",
       "      <td>0</td>\n",
       "      <td>10</td>\n",
       "      <td>54</td>\n",
       "      <td>4</td>\n",
       "      <td>62</td>\n",
       "    </tr>\n",
       "    <tr>\n",
       "      <th>254</th>\n",
       "      <td>Doppelsticke</td>\n",
       "      <td>Altbier</td>\n",
       "      <td>37.5</td>\n",
       "      <td>4.15</td>\n",
       "      <td>8.5</td>\n",
       "      <td>13</td>\n",
       "      <td>55</td>\n",
       "      <td>31</td>\n",
       "      <td>47</td>\n",
       "      <td>101</td>\n",
       "      <td>18</td>\n",
       "      <td>1</td>\n",
       "      <td>49</td>\n",
       "      <td>40</td>\n",
       "      <td>16</td>\n",
       "      <td>119</td>\n",
       "    </tr>\n",
       "    <tr>\n",
       "      <th>255</th>\n",
       "      <td>Scurry</td>\n",
       "      <td>Altbier</td>\n",
       "      <td>37.5</td>\n",
       "      <td>3.67</td>\n",
       "      <td>5.3</td>\n",
       "      <td>21</td>\n",
       "      <td>69</td>\n",
       "      <td>10</td>\n",
       "      <td>63</td>\n",
       "      <td>120</td>\n",
       "      <td>14</td>\n",
       "      <td>0</td>\n",
       "      <td>19</td>\n",
       "      <td>36</td>\n",
       "      <td>15</td>\n",
       "      <td>218</td>\n",
       "    </tr>\n",
       "  </tbody>\n",
       "</table>\n",
       "</div>"
      ],
      "text/plain": [
       "               Name    Style  Avg IBU  Avg Rating  ABV  Astringency  Body  \\\n",
       "key                                                                         \n",
       "251           Amber  Altbier     37.5        3.65  5.3           13    32   \n",
       "252      Double Bag  Altbier     37.5        3.90  7.2           12    57   \n",
       "253  Long Trail Ale  Altbier     37.5        3.58  5.0           14    37   \n",
       "254    Doppelsticke  Altbier     37.5        4.15  8.5           13    55   \n",
       "255          Scurry  Altbier     37.5        3.67  5.3           21    69   \n",
       "\n",
       "     Alcohol  Bitter  Sweet  Sour  Salty  Fruits  Hoppy  Spices  Malty  \n",
       "key                                                                     \n",
       "251        9      47     74    33      0      33     57       8    111  \n",
       "252       18      33     55    16      0      24     35      12     84  \n",
       "253        6      42     43    11      0      10     54       4     62  \n",
       "254       31      47    101    18      1      49     40      16    119  \n",
       "255       10      63    120    14      0      19     36      15    218  "
      ]
     },
     "execution_count": 770,
     "metadata": {},
     "output_type": "execute_result"
    }
   ],
   "source": [
    "beer.head()"
   ]
  },
  {
   "cell_type": "markdown",
   "metadata": {},
   "source": [
    "### Analisi esplorativa dei dati"
   ]
  },
  {
   "cell_type": "markdown",
   "metadata": {},
   "source": [
    "Per prima cosa visualizziamo i dati in nostro possesso, in particolare quante birre distinte ci sono e quanti stili di birra sono presenti."
   ]
  },
  {
   "cell_type": "code",
   "execution_count": 771,
   "metadata": {},
   "outputs": [
    {
     "name": "stdout",
     "output_type": "stream",
     "text": [
      "Numero di birre:  5305\n",
      "Numero di stili:  111\n"
     ]
    }
   ],
   "source": [
    "print(\"Numero di birre: \", beer[\"Name\"].nunique())\n",
    "print(\"Numero di stili: \", beer[\"Style\"].nunique())"
   ]
  },
  {
   "cell_type": "markdown",
   "metadata": {},
   "source": [
    "Visualizziamo il numero di birre per ogni stile presente nel dataset."
   ]
  },
  {
   "cell_type": "code",
   "execution_count": 772,
   "metadata": {},
   "outputs": [
    {
     "data": {
      "text/plain": [
       "Style\n",
       "Altbier                           50\n",
       "Pilsner - Imperial                50\n",
       "Red Ale - Imperial                50\n",
       "Red Ale - American Amber / Red    50\n",
       "Quadrupel (Quad)                  50\n",
       "                                  ..\n",
       "Sour - Flanders Oud Bruin         49\n",
       "Sour - Flanders Red Ale           49\n",
       "Lager - European Pale             49\n",
       "Sour - Gose                       49\n",
       "Sour - Berliner Weisse            49\n",
       "Name: count, Length: 111, dtype: int64"
      ]
     },
     "execution_count": 772,
     "metadata": {},
     "output_type": "execute_result"
    }
   ],
   "source": [
    "beer.value_counts(\"Style\")"
   ]
  },
  {
   "cell_type": "code",
   "execution_count": 773,
   "metadata": {},
   "outputs": [
    {
     "data": {
      "text/plain": [
       "49.909909909909906"
      ]
     },
     "execution_count": 773,
     "metadata": {},
     "output_type": "execute_result"
    }
   ],
   "source": [
    "beer.value_counts(\"Style\").mean()"
   ]
  },
  {
   "cell_type": "markdown",
   "metadata": {},
   "source": [
    "Notiamo che sono in media ci sono circa 50 birre per stile di birra."
   ]
  },
  {
   "cell_type": "markdown",
   "metadata": {},
   "source": [
    "Attraverso la funzione describe possiamo ottenere informazioni statistiche sulle variabili numeriche del nostro dataset."
   ]
  },
  {
   "cell_type": "code",
   "execution_count": 774,
   "metadata": {},
   "outputs": [
    {
     "data": {
      "text/html": [
       "<div>\n",
       "<style scoped>\n",
       "    .dataframe tbody tr th:only-of-type {\n",
       "        vertical-align: middle;\n",
       "    }\n",
       "\n",
       "    .dataframe tbody tr th {\n",
       "        vertical-align: top;\n",
       "    }\n",
       "\n",
       "    .dataframe thead th {\n",
       "        text-align: right;\n",
       "    }\n",
       "</style>\n",
       "<table border=\"1\" class=\"dataframe\">\n",
       "  <thead>\n",
       "    <tr style=\"text-align: right;\">\n",
       "      <th></th>\n",
       "      <th>Avg IBU</th>\n",
       "      <th>Avg Rating</th>\n",
       "      <th>ABV</th>\n",
       "      <th>Astringency</th>\n",
       "      <th>Body</th>\n",
       "      <th>Alcohol</th>\n",
       "      <th>Bitter</th>\n",
       "      <th>Sweet</th>\n",
       "      <th>Sour</th>\n",
       "      <th>Salty</th>\n",
       "      <th>Fruits</th>\n",
       "      <th>Hoppy</th>\n",
       "      <th>Spices</th>\n",
       "      <th>Malty</th>\n",
       "    </tr>\n",
       "  </thead>\n",
       "  <tbody>\n",
       "    <tr>\n",
       "      <th>count</th>\n",
       "      <td>5540.000000</td>\n",
       "      <td>5540.000000</td>\n",
       "      <td>5540.000000</td>\n",
       "      <td>5540.000000</td>\n",
       "      <td>5540.000000</td>\n",
       "      <td>5540.000000</td>\n",
       "      <td>5540.000000</td>\n",
       "      <td>5540.000000</td>\n",
       "      <td>5540.000000</td>\n",
       "      <td>5540.000000</td>\n",
       "      <td>5540.000000</td>\n",
       "      <td>5540.000000</td>\n",
       "      <td>5540.000000</td>\n",
       "      <td>5540.000000</td>\n",
       "    </tr>\n",
       "    <tr>\n",
       "      <th>mean</th>\n",
       "      <td>29.661733</td>\n",
       "      <td>3.760666</td>\n",
       "      <td>6.640401</td>\n",
       "      <td>15.964260</td>\n",
       "      <td>42.831227</td>\n",
       "      <td>16.015523</td>\n",
       "      <td>34.410830</td>\n",
       "      <td>53.611552</td>\n",
       "      <td>34.579061</td>\n",
       "      <td>1.317148</td>\n",
       "      <td>39.416426</td>\n",
       "      <td>38.514621</td>\n",
       "      <td>17.626534</td>\n",
       "      <td>68.739350</td>\n",
       "    </tr>\n",
       "    <tr>\n",
       "      <th>std</th>\n",
       "      <td>17.311383</td>\n",
       "      <td>0.443254</td>\n",
       "      <td>2.522439</td>\n",
       "      <td>11.625023</td>\n",
       "      <td>28.582000</td>\n",
       "      <td>18.283117</td>\n",
       "      <td>27.108819</td>\n",
       "      <td>35.783506</td>\n",
       "      <td>39.826670</td>\n",
       "      <td>3.879894</td>\n",
       "      <td>36.669337</td>\n",
       "      <td>31.912935</td>\n",
       "      <td>23.997150</td>\n",
       "      <td>44.581073</td>\n",
       "    </tr>\n",
       "    <tr>\n",
       "      <th>min</th>\n",
       "      <td>0.000000</td>\n",
       "      <td>1.270000</td>\n",
       "      <td>0.000000</td>\n",
       "      <td>0.000000</td>\n",
       "      <td>0.000000</td>\n",
       "      <td>0.000000</td>\n",
       "      <td>0.000000</td>\n",
       "      <td>0.000000</td>\n",
       "      <td>0.000000</td>\n",
       "      <td>0.000000</td>\n",
       "      <td>0.000000</td>\n",
       "      <td>0.000000</td>\n",
       "      <td>0.000000</td>\n",
       "      <td>0.000000</td>\n",
       "    </tr>\n",
       "    <tr>\n",
       "      <th>25%</th>\n",
       "      <td>20.000000</td>\n",
       "      <td>3.590000</td>\n",
       "      <td>5.000000</td>\n",
       "      <td>8.000000</td>\n",
       "      <td>25.000000</td>\n",
       "      <td>5.000000</td>\n",
       "      <td>13.000000</td>\n",
       "      <td>27.000000</td>\n",
       "      <td>9.000000</td>\n",
       "      <td>0.000000</td>\n",
       "      <td>10.000000</td>\n",
       "      <td>14.000000</td>\n",
       "      <td>4.000000</td>\n",
       "      <td>33.000000</td>\n",
       "    </tr>\n",
       "    <tr>\n",
       "      <th>50%</th>\n",
       "      <td>25.000000</td>\n",
       "      <td>3.820000</td>\n",
       "      <td>6.000000</td>\n",
       "      <td>14.000000</td>\n",
       "      <td>38.000000</td>\n",
       "      <td>10.000000</td>\n",
       "      <td>29.000000</td>\n",
       "      <td>50.000000</td>\n",
       "      <td>21.000000</td>\n",
       "      <td>0.000000</td>\n",
       "      <td>28.000000</td>\n",
       "      <td>30.000000</td>\n",
       "      <td>9.000000</td>\n",
       "      <td>65.000000</td>\n",
       "    </tr>\n",
       "    <tr>\n",
       "      <th>75%</th>\n",
       "      <td>37.500000</td>\n",
       "      <td>4.040000</td>\n",
       "      <td>7.900000</td>\n",
       "      <td>22.000000</td>\n",
       "      <td>55.000000</td>\n",
       "      <td>20.000000</td>\n",
       "      <td>51.000000</td>\n",
       "      <td>74.000000</td>\n",
       "      <td>44.000000</td>\n",
       "      <td>1.000000</td>\n",
       "      <td>62.000000</td>\n",
       "      <td>56.000000</td>\n",
       "      <td>22.000000</td>\n",
       "      <td>100.000000</td>\n",
       "    </tr>\n",
       "    <tr>\n",
       "      <th>max</th>\n",
       "      <td>82.500000</td>\n",
       "      <td>4.830000</td>\n",
       "      <td>57.500000</td>\n",
       "      <td>83.000000</td>\n",
       "      <td>197.000000</td>\n",
       "      <td>139.000000</td>\n",
       "      <td>150.000000</td>\n",
       "      <td>263.000000</td>\n",
       "      <td>323.000000</td>\n",
       "      <td>66.000000</td>\n",
       "      <td>222.000000</td>\n",
       "      <td>193.000000</td>\n",
       "      <td>184.000000</td>\n",
       "      <td>304.000000</td>\n",
       "    </tr>\n",
       "  </tbody>\n",
       "</table>\n",
       "</div>"
      ],
      "text/plain": [
       "           Avg IBU   Avg Rating          ABV  Astringency         Body  \\\n",
       "count  5540.000000  5540.000000  5540.000000  5540.000000  5540.000000   \n",
       "mean     29.661733     3.760666     6.640401    15.964260    42.831227   \n",
       "std      17.311383     0.443254     2.522439    11.625023    28.582000   \n",
       "min       0.000000     1.270000     0.000000     0.000000     0.000000   \n",
       "25%      20.000000     3.590000     5.000000     8.000000    25.000000   \n",
       "50%      25.000000     3.820000     6.000000    14.000000    38.000000   \n",
       "75%      37.500000     4.040000     7.900000    22.000000    55.000000   \n",
       "max      82.500000     4.830000    57.500000    83.000000   197.000000   \n",
       "\n",
       "           Alcohol       Bitter        Sweet         Sour        Salty  \\\n",
       "count  5540.000000  5540.000000  5540.000000  5540.000000  5540.000000   \n",
       "mean     16.015523    34.410830    53.611552    34.579061     1.317148   \n",
       "std      18.283117    27.108819    35.783506    39.826670     3.879894   \n",
       "min       0.000000     0.000000     0.000000     0.000000     0.000000   \n",
       "25%       5.000000    13.000000    27.000000     9.000000     0.000000   \n",
       "50%      10.000000    29.000000    50.000000    21.000000     0.000000   \n",
       "75%      20.000000    51.000000    74.000000    44.000000     1.000000   \n",
       "max     139.000000   150.000000   263.000000   323.000000    66.000000   \n",
       "\n",
       "            Fruits        Hoppy       Spices        Malty  \n",
       "count  5540.000000  5540.000000  5540.000000  5540.000000  \n",
       "mean     39.416426    38.514621    17.626534    68.739350  \n",
       "std      36.669337    31.912935    23.997150    44.581073  \n",
       "min       0.000000     0.000000     0.000000     0.000000  \n",
       "25%      10.000000    14.000000     4.000000    33.000000  \n",
       "50%      28.000000    30.000000     9.000000    65.000000  \n",
       "75%      62.000000    56.000000    22.000000   100.000000  \n",
       "max     222.000000   193.000000   184.000000   304.000000  "
      ]
     },
     "execution_count": 774,
     "metadata": {},
     "output_type": "execute_result"
    }
   ],
   "source": [
    "beer.describe()"
   ]
  },
  {
   "cell_type": "markdown",
   "metadata": {},
   "source": [
    "Mostriamo ora la distribuzione delle birre in base alla gradazione alcolica."
   ]
  },
  {
   "cell_type": "code",
   "execution_count": 775,
   "metadata": {},
   "outputs": [
    {
     "data": {
      "image/png": "[encoded data removed]",
      "text/plain": [
       "<Figure size 1000x500 with 1 Axes>"
      ]
     },
     "metadata": {},
     "output_type": "display_data"
    }
   ],
   "source": [
    "def plot_ABV():\n",
    "    plt.figure(figsize=(10, 5))\n",
    "    plt.bar(beer[\"ABV\"].value_counts().index, beer[\"ABV\"].value_counts().values, width=0.2)\n",
    "    plt.xlabel(\"ABV\")\n",
    "    plt.xticks(np.arange(0, 60, 5)) # Rimuovo i valori di ABV superiori a 20% per una migliore visualizzazione\n",
    "    plt.ylabel(\"Count\")\n",
    "    plt.title(\"Alcohol by Volume Distribution\")\n",
    "    plt.show()\n",
    "    \n",
    "plot_ABV()"
   ]
  },
  {
   "cell_type": "markdown",
   "metadata": {},
   "source": [
    "Possiamo notare che la maggior parte delle birre ha gradazione alcolica compresa tra 5% e 10%. \\\n",
    "Inoltre, possiamo notare un caso limite di una birra con gradazione alcolica pari a 57.5%. \\\n",
    "D'ora un poi considereremo solo le birre con gradazione alcolica compresa tra 0% e 20%."
   ]
  },
  {
   "cell_type": "code",
   "execution_count": 776,
   "metadata": {},
   "outputs": [
    {
     "data": {
      "text/html": [
       "<div>\n",
       "<style scoped>\n",
       "    .dataframe tbody tr th:only-of-type {\n",
       "        vertical-align: middle;\n",
       "    }\n",
       "\n",
       "    .dataframe tbody tr th {\n",
       "        vertical-align: top;\n",
       "    }\n",
       "\n",
       "    .dataframe thead th {\n",
       "        text-align: right;\n",
       "    }\n",
       "</style>\n",
       "<table border=\"1\" class=\"dataframe\">\n",
       "  <thead>\n",
       "    <tr style=\"text-align: right;\">\n",
       "      <th></th>\n",
       "      <th>Name</th>\n",
       "      <th>Style</th>\n",
       "      <th>Avg IBU</th>\n",
       "      <th>Avg Rating</th>\n",
       "      <th>ABV</th>\n",
       "      <th>Astringency</th>\n",
       "      <th>Body</th>\n",
       "      <th>Alcohol</th>\n",
       "      <th>Bitter</th>\n",
       "      <th>Sweet</th>\n",
       "      <th>Sour</th>\n",
       "      <th>Salty</th>\n",
       "      <th>Fruits</th>\n",
       "      <th>Hoppy</th>\n",
       "      <th>Spices</th>\n",
       "      <th>Malty</th>\n",
       "    </tr>\n",
       "    <tr>\n",
       "      <th>key</th>\n",
       "      <th></th>\n",
       "      <th></th>\n",
       "      <th></th>\n",
       "      <th></th>\n",
       "      <th></th>\n",
       "      <th></th>\n",
       "      <th></th>\n",
       "      <th></th>\n",
       "      <th></th>\n",
       "      <th></th>\n",
       "      <th></th>\n",
       "      <th></th>\n",
       "      <th></th>\n",
       "      <th></th>\n",
       "      <th></th>\n",
       "      <th></th>\n",
       "    </tr>\n",
       "  </thead>\n",
       "  <tbody>\n",
       "    <tr>\n",
       "      <th>75</th>\n",
       "      <td>Schorschbock 57%</td>\n",
       "      <td>Bock - Eisbock</td>\n",
       "      <td>30.0</td>\n",
       "      <td>2.97</td>\n",
       "      <td>57.5</td>\n",
       "      <td>0</td>\n",
       "      <td>7</td>\n",
       "      <td>17</td>\n",
       "      <td>3</td>\n",
       "      <td>9</td>\n",
       "      <td>6</td>\n",
       "      <td>0</td>\n",
       "      <td>10</td>\n",
       "      <td>0</td>\n",
       "      <td>2</td>\n",
       "      <td>4</td>\n",
       "    </tr>\n",
       "  </tbody>\n",
       "</table>\n",
       "</div>"
      ],
      "text/plain": [
       "                  Name           Style  Avg IBU  Avg Rating   ABV  \\\n",
       "key                                                                 \n",
       "75    Schorschbock 57%  Bock - Eisbock     30.0        2.97  57.5   \n",
       "\n",
       "     Astringency  Body  Alcohol  Bitter  Sweet  Sour  Salty  Fruits  Hoppy  \\\n",
       "key                                                                          \n",
       "75             0     7       17       3      9     6      0      10      0   \n",
       "\n",
       "     Spices  Malty  \n",
       "key                 \n",
       "75        2      4  "
      ]
     },
     "execution_count": 776,
     "metadata": {},
     "output_type": "execute_result"
    }
   ],
   "source": [
    "beer[beer[\"ABV\"] == beer[\"ABV\"].max()]"
   ]
  },
  {
   "cell_type": "code",
   "execution_count": 777,
   "metadata": {},
   "outputs": [],
   "source": [
    "beer = beer[beer[\"ABV\"] < 20]"
   ]
  },
  {
   "cell_type": "markdown",
   "metadata": {},
   "source": [
    "Proviamo a vedere se esiste una correlazione tra la gradazione alcolica e la valutazione media della birra.\n",
    "Per fare ciò utilizziamo un grafico di dispersione eliminando le birre con gradazione alcolica superiore al 20%."
   ]
  },
  {
   "cell_type": "code",
   "execution_count": 778,
   "metadata": {},
   "outputs": [
    {
     "data": {
      "image/png": "[encoded data removed]",
      "text/plain": [
       "<Figure size 640x480 with 1 Axes>"
      ]
     },
     "metadata": {},
     "output_type": "display_data"
    }
   ],
   "source": [
    "beer = beer.round(1)\n",
    "plt.scatter(beer[\"ABV\"], beer[\"Avg Rating\"])\n",
    "plt.xlabel(\"ABV\")\n",
    "plt.ylabel(\"Avg Rating\")\n",
    "plt.title(\"Correlation between ABV and Avg Rating\")\n",
    "plt.show()"
   ]
  },
  {
   "cell_type": "markdown",
   "metadata": {},
   "source": [
    "Come si può notare, non esiste una correlazione significativa tra la gradazione alcolica e la valutazione media della birra."
   ]
  },
  {
   "cell_type": "markdown",
   "metadata": {},
   "source": [
    "Di seguito troviamo una funzione generica che ci permette di visualizzare le caratteristiche in un grafico a barre e in un grafico a torta."
   ]
  },
  {
   "cell_type": "code",
   "execution_count": 779,
   "metadata": {},
   "outputs": [],
   "source": [
    "def plot_characteristics(filter_type, filter_value):\n",
    "    if filter_type not in [\"Style\", \"Name\"]:\n",
    "        print(\"Invalid filter type. Please choose 'Style' or 'Name'.\")\n",
    "        return\n",
    "    filtered_data = beer[beer[filter_type] == filter_value]\n",
    "    filtered_data = filtered_data.drop(columns=[\"Name\", \"Style\"])\n",
    "    filtered_data = filtered_data.mean()\n",
    "    \n",
    "    fig, axs = plt.subplots(1, 2, figsize=(10, 5))\n",
    "    \n",
    "    cmap = plt.get_cmap(\"tab20\")\n",
    "    colors = cmap(np.arange(len(filtered_data)))\n",
    "    \n",
    "    filtered_data.plot(kind=\"bar\", title=filter_type + \": \" + filter_value, ax=axs[0], color=colors)\n",
    "    filtered_data.plot(kind=\"pie\", title=filter_type + \": \" + filter_value, ax=axs[1], colors=colors)\n",
    "    \n",
    "    plt.tight_layout()\n",
    "    plt.show()"
   ]
  },
  {
   "cell_type": "markdown",
   "metadata": {},
   "source": [
    "Sfruttiamo la funzione per mostrare le caratteristiche generali di uno specifico stile di birra. \\\n",
    "Notiamo che le birre di stile \"Red Ale - Imperial\" sono piuttosto luppolate e maltate."
   ]
  },
  {
   "cell_type": "code",
   "execution_count": 780,
   "metadata": {},
   "outputs": [
    {
     "data": {
      "image/png": "[encoded data removed]",
      "text/plain": [
       "<Figure size 1000x500 with 2 Axes>"
      ]
     },
     "metadata": {},
     "output_type": "display_data"
    }
   ],
   "source": [
    "plot_characteristics(\"Style\", \"Red Ale - Imperial\")"
   ]
  },
  {
   "cell_type": "markdown",
   "metadata": {},
   "source": [
    "Invece, ora visualizziamo le caratteristiche di una birra specifica. \\\n",
    "Notiamo che la birra \"Long Trail Ale\" è molto speziata e maltata."
   ]
  },
  {
   "cell_type": "code",
   "execution_count": 781,
   "metadata": {},
   "outputs": [
    {
     "data": {
      "image/png": "[encoded data removed]",
      "text/plain": [
       "<Figure size 1000x500 with 2 Axes>"
      ]
     },
     "metadata": {},
     "output_type": "display_data"
    }
   ],
   "source": [
    "plot_characteristics(\"Name\", \"Red Nose Winter Ale\")"
   ]
  },
  {
   "cell_type": "markdown",
   "metadata": {},
   "source": [
    "### Preparazione dei dati"
   ]
  },
  {
   "cell_type": "markdown",
   "metadata": {},
   "source": [
    "Dopo la fase di analisi espolorativa dei dati, prepariamo i dati per l'addestramento del modello. \\\n",
    "I dati che ci interessano sono le caratteristiche della birra e lo stile della birra. \\\n",
    "In particolare avremo bisongo di:\n",
    "* `Style` &rarr; stile della birra\n",
    "* `Avg IBU` &rarr; media tra `Min IBU` e `Max IBU`\n",
    "* `Avg Rating` &rarr; valutazione media della birra\n",
    "* `ABV` &rarr; gradazione alcolica della birra \n",
    "* `Astringency` &rarr; astringenza della birra\n",
    "* `Body` &rarr; corpo della birra\n",
    "* `Alcohol` &rarr; quanto si sente l'alcol nella birra\n",
    "* `Bitter` &rarr; amarezza della birra\n",
    "* `Sweet` &rarr; dolcezza della birra\n",
    "* `Sour` &rarr; acidità della birra\n",
    "* `Salty` &rarr; quanto è salata la birra\n",
    "* `Fruits` &rarr; quanto è fruttata la birra\n",
    "* `Hoppy` &rarr; quanto è luppolata la birra\n",
    "* `Spices` &rarr; quanto è speziata la birra\n",
    "* `Malty` &rarr; quanto è maltata la birra"
   ]
  },
  {
   "cell_type": "markdown",
   "metadata": {},
   "source": [
    "Sapendo cosa ci interessa creiamo le due nuove variabile che ci serviranno per addestrare il modello:\n",
    "* `y` &rarr; variabile target, rappresenta lo stile della birra\n",
    "* `X` &rarr; variabile indipendente, rappresenta l'insieme delle caratteristiche della birra "
   ]
  },
  {
   "cell_type": "code",
   "execution_count": 782,
   "metadata": {},
   "outputs": [],
   "source": [
    "y = beer[\"Style\"]\n",
    "X = beer[[col for col in beer.columns if col != \"Style\" and col != \"Name\" and col != \"Avg Rating\"]]"
   ]
  },
  {
   "cell_type": "markdown",
   "metadata": {},
   "source": [
    "A questo punto bisogna suddividere i dati in training set e validation set. \\\n",
    "Decidiamo di avere 1/3 dei dati nel validation set e 2/3 dei dati nel training set."
   ]
  },
  {
   "cell_type": "code",
   "execution_count": 783,
   "metadata": {},
   "outputs": [],
   "source": [
    "from sklearn.model_selection import train_test_split\n",
    "\n",
    "X_train, X_val, y_train, y_val = train_test_split(\n",
    "    X, y,\n",
    "    test_size=1/3,\n",
    "    random_state=42\n",
    ")"
   ]
  },
  {
   "cell_type": "markdown",
   "metadata": {},
   "source": [
    "Dal momento che le nostre feature non sono binarie e hanno molti valori distinti, non è possibile utilizzare un modello di classificazione binaria. \\\n",
    "Quindi proviamo a utilizzare modelli di classificazioni lineari come il Perceptron. \\\n",
    "Ma prima vogliamo standardizzare i dati per evitare che le feature con valori più grandi abbiano un peso maggiore."
   ]
  },
  {
   "cell_type": "code",
   "execution_count": 784,
   "metadata": {},
   "outputs": [],
   "source": [
    "from sklearn.preprocessing import StandardScaler\n",
    "scaler = StandardScaler()\n",
    "Xstd_train = scaler.fit_transform(X_train)\n",
    "Xstd_val = scaler.transform(X_val)"
   ]
  },
  {
   "cell_type": "markdown",
   "metadata": {},
   "source": [
    "A questo punto vogliamo creare il Perceptron"
   ]
  },
  {
   "cell_type": "code",
   "execution_count": 785,
   "metadata": {},
   "outputs": [],
   "source": [
    "from sklearn.linear_model import Perceptron\n",
    "model = Perceptron()"
   ]
  },
  {
   "cell_type": "markdown",
   "metadata": {},
   "source": [
    "Il prossimo passo è addestrare il modello con i dati standardizzati di training."
   ]
  },
  {
   "cell_type": "code",
   "execution_count": 786,
   "metadata": {},
   "outputs": [
    {
     "data": {
      "text/html": [
       "<style>#sk-container-id-26 {\n",
       "  /* Definition of color scheme common for light and dark mode */\n",
       "  --sklearn-color-text: black;\n",
       "  --sklearn-color-line: gray;\n",
       "  /* Definition of color scheme for unfitted estimators */\n",
       "  --sklearn-color-unfitted-level-0: #fff5e6;\n",
       "  --sklearn-color-unfitted-level-1: #f6e4d2;\n",
       "  --sklearn-color-unfitted-level-2: #ffe0b3;\n",
       "  --sklearn-color-unfitted-level-3: chocolate;\n",
       "  /* Definition of color scheme for fitted estimators */\n",
       "  --sklearn-color-fitted-level-0: #f0f8ff;\n",
       "  --sklearn-color-fitted-level-1: #d4ebff;\n",
       "  --sklearn-color-fitted-level-2: #b3dbfd;\n",
       "  --sklearn-color-fitted-level-3: cornflowerblue;\n",
       "\n",
       "  /* Specific color for light theme */\n",
       "  --sklearn-color-text-on-default-background: var(--sg-text-color, var(--theme-code-foreground, var(--jp-content-font-color1, black)));\n",
       "  --sklearn-color-background: var(--sg-background-color, var(--theme-background, var(--jp-layout-color0, white)));\n",
       "  --sklearn-color-border-box: var(--sg-text-color, var(--theme-code-foreground, var(--jp-content-font-color1, black)));\n",
       "  --sklearn-color-icon: #696969;\n",
       "\n",
       "  @media (prefers-color-scheme: dark) {\n",
       "    /* Redefinition of color scheme for dark theme */\n",
       "    --sklearn-color-text-on-default-background: var(--sg-text-color, var(--theme-code-foreground, var(--jp-content-font-color1, white)));\n",
       "    --sklearn-color-background: var(--sg-background-color, var(--theme-background, var(--jp-layout-color0, #111)));\n",
       "    --sklearn-color-border-box: var(--sg-text-color, var(--theme-code-foreground, var(--jp-content-font-color1, white)));\n",
       "    --sklearn-color-icon: #878787;\n",
       "  }\n",
       "}\n",
       "\n",
       "#sk-container-id-26 {\n",
       "  color: var(--sklearn-color-text);\n",
       "}\n",
       "\n",
       "#sk-container-id-26 pre {\n",
       "  padding: 0;\n",
       "}\n",
       "\n",
       "#sk-container-id-26 input.sk-hidden--visually {\n",
       "  border: 0;\n",
       "  clip: rect(1px 1px 1px 1px);\n",
       "  clip: rect(1px, 1px, 1px, 1px);\n",
       "  height: 1px;\n",
       "  margin: -1px;\n",
       "  overflow: hidden;\n",
       "  padding: 0;\n",
       "  position: absolute;\n",
       "  width: 1px;\n",
       "}\n",
       "\n",
       "#sk-container-id-26 div.sk-dashed-wrapped {\n",
       "  border: 1px dashed var(--sklearn-color-line);\n",
       "  margin: 0 0.4em 0.5em 0.4em;\n",
       "  box-sizing: border-box;\n",
       "  padding-bottom: 0.4em;\n",
       "  background-color: var(--sklearn-color-background);\n",
       "}\n",
       "\n",
       "#sk-container-id-26 div.sk-container {\n",
       "  /* jupyter's `normalize.less` sets `[hidden] { display: none; }`\n",
       "     but bootstrap.min.css set `[hidden] { display: none !important; }`\n",
       "     so we also need the `!important` here to be able to override the\n",
       "     default hidden behavior on the sphinx rendered scikit-learn.org.\n",
       "     See: https://github.com/scikit-learn/scikit-learn/issues/21755 */\n",
       "  display: inline-block !important;\n",
       "  position: relative;\n",
       "}\n",
       "\n",
       "#sk-container-id-26 div.sk-text-repr-fallback {\n",
       "  display: none;\n",
       "}\n",
       "\n",
       "div.sk-parallel-item,\n",
       "div.sk-serial,\n",
       "div.sk-item {\n",
       "  /* draw centered vertical line to link estimators */\n",
       "  background-image: linear-gradient(var(--sklearn-color-text-on-default-background), var(--sklearn-color-text-on-default-background));\n",
       "  background-size: 2px 100%;\n",
       "  background-repeat: no-repeat;\n",
       "  background-position: center center;\n",
       "}\n",
       "\n",
       "/* Parallel-specific style estimator block */\n",
       "\n",
       "#sk-container-id-26 div.sk-parallel-item::after {\n",
       "  content: \"\";\n",
       "  width: 100%;\n",
       "  border-bottom: 2px solid var(--sklearn-color-text-on-default-background);\n",
       "  flex-grow: 1;\n",
       "}\n",
       "\n",
       "#sk-container-id-26 div.sk-parallel {\n",
       "  display: flex;\n",
       "  align-items: stretch;\n",
       "  justify-content: center;\n",
       "  background-color: var(--sklearn-color-background);\n",
       "  position: relative;\n",
       "}\n",
       "\n",
       "#sk-container-id-26 div.sk-parallel-item {\n",
       "  display: flex;\n",
       "  flex-direction: column;\n",
       "}\n",
       "\n",
       "#sk-container-id-26 div.sk-parallel-item:first-child::after {\n",
       "  align-self: flex-end;\n",
       "  width: 50%;\n",
       "}\n",
       "\n",
       "#sk-container-id-26 div.sk-parallel-item:last-child::after {\n",
       "  align-self: flex-start;\n",
       "  width: 50%;\n",
       "}\n",
       "\n",
       "#sk-container-id-26 div.sk-parallel-item:only-child::after {\n",
       "  width: 0;\n",
       "}\n",
       "\n",
       "/* Serial-specific style estimator block */\n",
       "\n",
       "#sk-container-id-26 div.sk-serial {\n",
       "  display: flex;\n",
       "  flex-direction: column;\n",
       "  align-items: center;\n",
       "  background-color: var(--sklearn-color-background);\n",
       "  padding-right: 1em;\n",
       "  padding-left: 1em;\n",
       "}\n",
       "\n",
       "\n",
       "/* Toggleable style: style used for estimator/Pipeline/ColumnTransformer box that is\n",
       "clickable and can be expanded/collapsed.\n",
       "- Pipeline and ColumnTransformer use this feature and define the default style\n",
       "- Estimators will overwrite some part of the style using the `sk-estimator` class\n",
       "*/\n",
       "\n",
       "/* Pipeline and ColumnTransformer style (default) */\n",
       "\n",
       "#sk-container-id-26 div.sk-toggleable {\n",
       "  /* Default theme specific background. It is overwritten whether we have a\n",
       "  specific estimator or a Pipeline/ColumnTransformer */\n",
       "  background-color: var(--sklearn-color-background);\n",
       "}\n",
       "\n",
       "/* Toggleable label */\n",
       "#sk-container-id-26 label.sk-toggleable__label {\n",
       "  cursor: pointer;\n",
       "  display: block;\n",
       "  width: 100%;\n",
       "  margin-bottom: 0;\n",
       "  padding: 0.5em;\n",
       "  box-sizing: border-box;\n",
       "  text-align: center;\n",
       "}\n",
       "\n",
       "#sk-container-id-26 label.sk-toggleable__label-arrow:before {\n",
       "  /* Arrow on the left of the label */\n",
       "  content: \"▸\";\n",
       "  float: left;\n",
       "  margin-right: 0.25em;\n",
       "  color: var(--sklearn-color-icon);\n",
       "}\n",
       "\n",
       "#sk-container-id-26 label.sk-toggleable__label-arrow:hover:before {\n",
       "  color: var(--sklearn-color-text);\n",
       "}\n",
       "\n",
       "/* Toggleable content - dropdown */\n",
       "\n",
       "#sk-container-id-26 div.sk-toggleable__content {\n",
       "  max-height: 0;\n",
       "  max-width: 0;\n",
       "  overflow: hidden;\n",
       "  text-align: left;\n",
       "  /* unfitted */\n",
       "  background-color: var(--sklearn-color-unfitted-level-0);\n",
       "}\n",
       "\n",
       "#sk-container-id-26 div.sk-toggleable__content.fitted {\n",
       "  /* fitted */\n",
       "  background-color: var(--sklearn-color-fitted-level-0);\n",
       "}\n",
       "\n",
       "#sk-container-id-26 div.sk-toggleable__content pre {\n",
       "  margin: 0.2em;\n",
       "  border-radius: 0.25em;\n",
       "  color: var(--sklearn-color-text);\n",
       "  /* unfitted */\n",
       "  background-color: var(--sklearn-color-unfitted-level-0);\n",
       "}\n",
       "\n",
       "#sk-container-id-26 div.sk-toggleable__content.fitted pre {\n",
       "  /* unfitted */\n",
       "  background-color: var(--sklearn-color-fitted-level-0);\n",
       "}\n",
       "\n",
       "#sk-container-id-26 input.sk-toggleable__control:checked~div.sk-toggleable__content {\n",
       "  /* Expand drop-down */\n",
       "  max-height: 200px;\n",
       "  max-width: 100%;\n",
       "  overflow: auto;\n",
       "}\n",
       "\n",
       "#sk-container-id-26 input.sk-toggleable__control:checked~label.sk-toggleable__label-arrow:before {\n",
       "  content: \"▾\";\n",
       "}\n",
       "\n",
       "/* Pipeline/ColumnTransformer-specific style */\n",
       "\n",
       "#sk-container-id-26 div.sk-label input.sk-toggleable__control:checked~label.sk-toggleable__label {\n",
       "  color: var(--sklearn-color-text);\n",
       "  background-color: var(--sklearn-color-unfitted-level-2);\n",
       "}\n",
       "\n",
       "#sk-container-id-26 div.sk-label.fitted input.sk-toggleable__control:checked~label.sk-toggleable__label {\n",
       "  background-color: var(--sklearn-color-fitted-level-2);\n",
       "}\n",
       "\n",
       "/* Estimator-specific style */\n",
       "\n",
       "/* Colorize estimator box */\n",
       "#sk-container-id-26 div.sk-estimator input.sk-toggleable__control:checked~label.sk-toggleable__label {\n",
       "  /* unfitted */\n",
       "  background-color: var(--sklearn-color-unfitted-level-2);\n",
       "}\n",
       "\n",
       "#sk-container-id-26 div.sk-estimator.fitted input.sk-toggleable__control:checked~label.sk-toggleable__label {\n",
       "  /* fitted */\n",
       "  background-color: var(--sklearn-color-fitted-level-2);\n",
       "}\n",
       "\n",
       "#sk-container-id-26 div.sk-label label.sk-toggleable__label,\n",
       "#sk-container-id-26 div.sk-label label {\n",
       "  /* The background is the default theme color */\n",
       "  color: var(--sklearn-color-text-on-default-background);\n",
       "}\n",
       "\n",
       "/* On hover, darken the color of the background */\n",
       "#sk-container-id-26 div.sk-label:hover label.sk-toggleable__label {\n",
       "  color: var(--sklearn-color-text);\n",
       "  background-color: var(--sklearn-color-unfitted-level-2);\n",
       "}\n",
       "\n",
       "/* Label box, darken color on hover, fitted */\n",
       "#sk-container-id-26 div.sk-label.fitted:hover label.sk-toggleable__label.fitted {\n",
       "  color: var(--sklearn-color-text);\n",
       "  background-color: var(--sklearn-color-fitted-level-2);\n",
       "}\n",
       "\n",
       "/* Estimator label */\n",
       "\n",
       "#sk-container-id-26 div.sk-label label {\n",
       "  font-family: monospace;\n",
       "  font-weight: bold;\n",
       "  display: inline-block;\n",
       "  line-height: 1.2em;\n",
       "}\n",
       "\n",
       "#sk-container-id-26 div.sk-label-container {\n",
       "  text-align: center;\n",
       "}\n",
       "\n",
       "/* Estimator-specific */\n",
       "#sk-container-id-26 div.sk-estimator {\n",
       "  font-family: monospace;\n",
       "  border: 1px dotted var(--sklearn-color-border-box);\n",
       "  border-radius: 0.25em;\n",
       "  box-sizing: border-box;\n",
       "  margin-bottom: 0.5em;\n",
       "  /* unfitted */\n",
       "  background-color: var(--sklearn-color-unfitted-level-0);\n",
       "}\n",
       "\n",
       "#sk-container-id-26 div.sk-estimator.fitted {\n",
       "  /* fitted */\n",
       "  background-color: var(--sklearn-color-fitted-level-0);\n",
       "}\n",
       "\n",
       "/* on hover */\n",
       "#sk-container-id-26 div.sk-estimator:hover {\n",
       "  /* unfitted */\n",
       "  background-color: var(--sklearn-color-unfitted-level-2);\n",
       "}\n",
       "\n",
       "#sk-container-id-26 div.sk-estimator.fitted:hover {\n",
       "  /* fitted */\n",
       "  background-color: var(--sklearn-color-fitted-level-2);\n",
       "}\n",
       "\n",
       "/* Specification for estimator info (e.g. \"i\" and \"?\") */\n",
       "\n",
       "/* Common style for \"i\" and \"?\" */\n",
       "\n",
       ".sk-estimator-doc-link,\n",
       "a:link.sk-estimator-doc-link,\n",
       "a:visited.sk-estimator-doc-link {\n",
       "  float: right;\n",
       "  font-size: smaller;\n",
       "  line-height: 1em;\n",
       "  font-family: monospace;\n",
       "  background-color: var(--sklearn-color-background);\n",
       "  border-radius: 1em;\n",
       "  height: 1em;\n",
       "  width: 1em;\n",
       "  text-decoration: none !important;\n",
       "  margin-left: 1ex;\n",
       "  /* unfitted */\n",
       "  border: var(--sklearn-color-unfitted-level-1) 1pt solid;\n",
       "  color: var(--sklearn-color-unfitted-level-1);\n",
       "}\n",
       "\n",
       ".sk-estimator-doc-link.fitted,\n",
       "a:link.sk-estimator-doc-link.fitted,\n",
       "a:visited.sk-estimator-doc-link.fitted {\n",
       "  /* fitted */\n",
       "  border: var(--sklearn-color-fitted-level-1) 1pt solid;\n",
       "  color: var(--sklearn-color-fitted-level-1);\n",
       "}\n",
       "\n",
       "/* On hover */\n",
       "div.sk-estimator:hover .sk-estimator-doc-link:hover,\n",
       ".sk-estimator-doc-link:hover,\n",
       "div.sk-label-container:hover .sk-estimator-doc-link:hover,\n",
       ".sk-estimator-doc-link:hover {\n",
       "  /* unfitted */\n",
       "  background-color: var(--sklearn-color-unfitted-level-3);\n",
       "  color: var(--sklearn-color-background);\n",
       "  text-decoration: none;\n",
       "}\n",
       "\n",
       "div.sk-estimator.fitted:hover .sk-estimator-doc-link.fitted:hover,\n",
       ".sk-estimator-doc-link.fitted:hover,\n",
       "div.sk-label-container:hover .sk-estimator-doc-link.fitted:hover,\n",
       ".sk-estimator-doc-link.fitted:hover {\n",
       "  /* fitted */\n",
       "  background-color: var(--sklearn-color-fitted-level-3);\n",
       "  color: var(--sklearn-color-background);\n",
       "  text-decoration: none;\n",
       "}\n",
       "\n",
       "/* Span, style for the box shown on hovering the info icon */\n",
       ".sk-estimator-doc-link span {\n",
       "  display: none;\n",
       "  z-index: 9999;\n",
       "  position: relative;\n",
       "  font-weight: normal;\n",
       "  right: .2ex;\n",
       "  padding: .5ex;\n",
       "  margin: .5ex;\n",
       "  width: min-content;\n",
       "  min-width: 20ex;\n",
       "  max-width: 50ex;\n",
       "  color: var(--sklearn-color-text);\n",
       "  box-shadow: 2pt 2pt 4pt #999;\n",
       "  /* unfitted */\n",
       "  background: var(--sklearn-color-unfitted-level-0);\n",
       "  border: .5pt solid var(--sklearn-color-unfitted-level-3);\n",
       "}\n",
       "\n",
       ".sk-estimator-doc-link.fitted span {\n",
       "  /* fitted */\n",
       "  background: var(--sklearn-color-fitted-level-0);\n",
       "  border: var(--sklearn-color-fitted-level-3);\n",
       "}\n",
       "\n",
       ".sk-estimator-doc-link:hover span {\n",
       "  display: block;\n",
       "}\n",
       "\n",
       "/* \"?\"-specific style due to the `<a>` HTML tag */\n",
       "\n",
       "#sk-container-id-26 a.estimator_doc_link {\n",
       "  float: right;\n",
       "  font-size: 1rem;\n",
       "  line-height: 1em;\n",
       "  font-family: monospace;\n",
       "  background-color: var(--sklearn-color-background);\n",
       "  border-radius: 1rem;\n",
       "  height: 1rem;\n",
       "  width: 1rem;\n",
       "  text-decoration: none;\n",
       "  /* unfitted */\n",
       "  color: var(--sklearn-color-unfitted-level-1);\n",
       "  border: var(--sklearn-color-unfitted-level-1) 1pt solid;\n",
       "}\n",
       "\n",
       "#sk-container-id-26 a.estimator_doc_link.fitted {\n",
       "  /* fitted */\n",
       "  border: var(--sklearn-color-fitted-level-1) 1pt solid;\n",
       "  color: var(--sklearn-color-fitted-level-1);\n",
       "}\n",
       "\n",
       "/* On hover */\n",
       "#sk-container-id-26 a.estimator_doc_link:hover {\n",
       "  /* unfitted */\n",
       "  background-color: var(--sklearn-color-unfitted-level-3);\n",
       "  color: var(--sklearn-color-background);\n",
       "  text-decoration: none;\n",
       "}\n",
       "\n",
       "#sk-container-id-26 a.estimator_doc_link.fitted:hover {\n",
       "  /* fitted */\n",
       "  background-color: var(--sklearn-color-fitted-level-3);\n",
       "}\n",
       "</style><div id=\"sk-container-id-26\" class=\"sk-top-container\"><div class=\"sk-text-repr-fallback\"><pre>Perceptron()</pre><b>In a Jupyter environment, please rerun this cell to show the HTML representation or trust the notebook. <br />On GitHub, the HTML representation is unable to render, please try loading this page with nbviewer.org.</b></div><div class=\"sk-container\" hidden><div class=\"sk-item\"><div class=\"sk-estimator fitted sk-toggleable\"><input class=\"sk-toggleable__control sk-hidden--visually\" id=\"sk-estimator-id-26\" type=\"checkbox\" checked><label for=\"sk-estimator-id-26\" class=\"sk-toggleable__label fitted sk-toggleable__label-arrow fitted\">&nbsp;&nbsp;Perceptron<a class=\"sk-estimator-doc-link fitted\" rel=\"noreferrer\" target=\"_blank\" href=\"https://scikit-learn.org/1.4/modules/generated/sklearn.linear_model.Perceptron.html\">?<span>Documentation for Perceptron</span></a><span class=\"sk-estimator-doc-link fitted\">i<span>Fitted</span></span></label><div class=\"sk-toggleable__content fitted\"><pre>Perceptron()</pre></div> </div></div></div></div>"
      ],
      "text/plain": [
       "Perceptron()"
      ]
     },
     "execution_count": 786,
     "metadata": {},
     "output_type": "execute_result"
    }
   ],
   "source": [
    "model.fit(Xstd_train, y_train)"
   ]
  },
  {
   "cell_type": "markdown",
   "metadata": {},
   "source": [
    "A questo punto possiamo notare i valori dei pesi `w` con `model.coef` "
   ]
  },
  {
   "cell_type": "code",
   "execution_count": 787,
   "metadata": {},
   "outputs": [
    {
     "data": {
      "text/plain": [
       "array([ 0.47265742, -3.48703265,  1.3443644 , -2.24686308, -5.08443358,\n",
       "       -1.61310444,  1.33245456, -0.26138149, -6.26626396, -3.26045453,\n",
       "        2.04387762, -0.36805419,  3.73617461])"
      ]
     },
     "execution_count": 787,
     "metadata": {},
     "output_type": "execute_result"
    }
   ],
   "source": [
    "model.coef_[0]"
   ]
  },
  {
   "cell_type": "markdown",
   "metadata": {},
   "source": [
    "E il valore del bias `b` con `model.intercept_`"
   ]
  },
  {
   "cell_type": "code",
   "execution_count": 788,
   "metadata": {},
   "outputs": [
    {
     "data": {
      "text/plain": [
       "-16.0"
      ]
     },
     "execution_count": 788,
     "metadata": {},
     "output_type": "execute_result"
    }
   ],
   "source": [
    "model.intercept_[0]"
   ]
  },
  {
   "cell_type": "markdown",
   "metadata": {},
   "source": [
    "In questo caso prendiamo per esempio il primo iperpiano \"[0]\" ma effettivamente abbiamo 111 iperpiani che equivalgono ai 111 stili di birra. \\\n",
    "Ogni piano è composto da 13 pesi e un bias. \\\n",
    "Questo si nota controllando la shape di `model.coef_`"
   ]
  },
  {
   "cell_type": "code",
   "execution_count": 789,
   "metadata": {},
   "outputs": [
    {
     "data": {
      "text/plain": [
       "(111, 13)"
      ]
     },
     "execution_count": 789,
     "metadata": {},
     "output_type": "execute_result"
    }
   ],
   "source": [
    "model.coef_.shape"
   ]
  },
  {
   "cell_type": "markdown",
   "metadata": {},
   "source": [
    "Avremo quindi l'equazione per ogni piano `w1*x1 + w2*x2 + ... + w13*x13 + b = 0` "
   ]
  },
  {
   "cell_type": "markdown",
   "metadata": {},
   "source": [
    "A questo punto possiamo calcolare la predizione del modello sul validation set."
   ]
  },
  {
   "cell_type": "code",
   "execution_count": 790,
   "metadata": {},
   "outputs": [
    {
     "data": {
      "text/plain": [
       "array(['Lager - American Amber / Red', 'Pale Ale - Belgian',\n",
       "       'Lager - American Amber / Red', ...,\n",
       "       'Lager - American Amber / Red', 'Dubbel', 'Pale Ale - Belgian'],\n",
       "      dtype='<U52')"
      ]
     },
     "execution_count": 790,
     "metadata": {},
     "output_type": "execute_result"
    }
   ],
   "source": [
    "model.predict(Xstd_val)"
   ]
  },
  {
   "cell_type": "markdown",
   "metadata": {},
   "source": [
    "Ora possiamo testare tramite `model.score` l'accuratezza del modello valutando il modello con i dati di validation standardizzati."
   ]
  },
  {
   "cell_type": "code",
   "execution_count": 791,
   "metadata": {},
   "outputs": [
    {
     "name": "stdout",
     "output_type": "stream",
     "text": [
      "Accuracy:  0.16043360433604337\n"
     ]
    }
   ],
   "source": [
    "print(\"Accuracy: \", model.score(Xstd_val, y_val))"
   ]
  },
  {
   "cell_type": "markdown",
   "metadata": {},
   "source": [
    "Notiamo che avendo solamente il 20% di accuratezza, il modello non è in grado di classificare correttamente le birre. \\\n",
    "Inoltre, dal momento che contiene più di 2 e 3 dimensioni non è possibile visualizzare il modello. L'unico modo per visualizzarlo sarebbe ridurre le dimensioni a 2 o 3 con tecniche di riduzione della dimensionalità ma, dal momento che le nostre feature sono tutte di egual importanza, non è possibile ridurre le dimensioni."
   ]
  },
  {
   "cell_type": "markdown",
   "metadata": {},
   "source": [
    "Poiché il modello non è in grado di classificare correttamente le birre, proviamo ad utilizzare un altro modello lineare di classificazione, chiamato Regressione Logistica, ovvero un miglioramento del modello Perceptron."
   ]
  },
  {
   "cell_type": "markdown",
   "metadata": {},
   "source": [
    "### Modellazione\n",
    "Guardare presenza o meno di persone nell'ufficio"
   ]
  },
  {
   "cell_type": "markdown",
   "metadata": {},
   "source": [
    "Level 1: Regressione Logistica, \\\n",
    "Level 2: SVM, Decision Tree (Usare X_train perché non ha bisogno di feature standardizzate), \\\n",
    "Level 3: Fare Random Forest\n",
    "\n",
    "Valutazione del modello: \\\n",
    "Cross Validation\n",
    "\n"
   ]
  },
  {
   "cell_type": "markdown",
   "metadata": {},
   "source": []
  }
 ],
 "metadata": {
  "kernelspec": {
   "display_name": "Python 3",
   "language": "python",
   "name": "python3"
  },
  "language_info": {
   "codemirror_mode": {
    "name": "ipython",
    "version": 3
   },
   "file_extension": ".py",
   "mimetype": "text/x-python",
   "name": "python",
   "nbconvert_exporter": "python",
   "pygments_lexer": "ipython3",
   "version": "3.11.3"
  }
 },
 "nbformat": 4,
 "nbformat_minor": 2
}
