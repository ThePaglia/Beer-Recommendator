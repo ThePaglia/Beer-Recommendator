{
 "cells": [
  {
   "cell_type": "markdown",
   "metadata": {},
   "source": [
    "# Beer Wizard\n",
    "### Programma che classifica per stile una birra in base alle caratteristiche fornite\n",
    "\\\n",
    "Progetto d'esame di Programmazione di Applicazioni Data Intensive \\\n",
    "a.a. 2023/2024 \\\n",
    "DISI - Università di Bologna, Cesena \\\n",
    "**Realizzato da:**\n",
    "* Martino Pagliarani 0001028890 martino.pagliarani@studio.unibo.it\n"
   ]
  },
  {
   "cell_type": "markdown",
   "metadata": {},
   "source": [
    "### Inizializzazione dell'ambiente\n",
    "Il primo passo è quello di analizzare i dati, per farlo è necessario importare le seguenti librerie:\n",
    "* *numpy* &rarr; utilizzato per l'analisi numerica dei dati sotto forma di array\n",
    "* *pandas* &rarr; utilizzato per l'analisi numerica dei dati sotto forma di tabelle\n",
    "* *pyplot* &rarr; utilizzato per la visualizzazione dei dati sotto forma di grafici"
   ]
  },
  {
   "cell_type": "code",
   "execution_count": 514,
   "metadata": {},
   "outputs": [],
   "source": [
    "%matplotlib inline\n",
    "import numpy as np\n",
    "import pandas as pd\n",
    "import matplotlib.pyplot as plt\n",
    "import sklearn as skl"
   ]
  },
  {
   "cell_type": "markdown",
   "metadata": {},
   "source": [
    "### Caricamento dei dati\n",
    "Carichiamo i dati da [Kaggle](https://www.kaggle.com/datasets/stephenpolozoff/top-beer-information?select=beer_data_set.csv \"Title\"). \\\n",
    "Al momento della scrittura, l'ultimo update del dataset risale al 2021 e contiene 5317 birre e le tutte le informazioni relative ad esse. Il dataset è stato ricavato dal sito: [BeerAdvocate](https://www.beeradvocate.com). \\\n",
    "Ogni birra contiene i seguenti dati:\n",
    "* `Name` &rarr; nome della birra\n",
    "* `key` &rarr; chiave univoca della birra\n",
    "* `Style` &rarr; stile della birra\n",
    "* `Style_key` &rarr; chiave univoca dello stile della birra\n",
    "* `Brewery` &rarr; birrificio che produce la birra\n",
    "* `Description` &rarr; descrizione della birra\n",
    "* `ABV` &rarr; \"Alcohol By Volume\" gradazione alcolica della birra\n",
    "* `Avg Rating` &rarr; valutazione media della birra\n",
    "* `Min IBU` &rarr; valore minimo dell'indice di amarezza\n",
    "* `Max IBU` &rarr; valore massimo dell'indice di amarezza\n",
    "* `Astringency` &rarr; astringenza della birra\n",
    "* `Body` &rarr; corpo della birra\n",
    "* `Alcohol` &rarr; quanto si sente l'alcol nella birra\n",
    "* `Bitter` &rarr; amarezza della birra\n",
    "* `Sweet` &rarr; dolcezza della birra\n",
    "* `Sour` &rarr; acidità della birra\n",
    "* `Salty` &rarr; quanto è salata la birra\n",
    "* `Fruits` &rarr; quanto è fruttata la birra\n",
    "* `Hoppy` &rarr; quanto è luppolata la birra\n",
    "* `Spices` &rarr; quanto è speziata la birra\n",
    "* `Malty` &rarr; quanto è maltata la birra"
   ]
  },
  {
   "cell_type": "code",
   "execution_count": 515,
   "metadata": {},
   "outputs": [],
   "source": [
    "import os.path\n",
    "file = \"./beer_data_set.csv\"\n",
    "if not os.path.exists(file):\n",
    "    print(\"Missing dataset, download it manually from Kaggle: https://www.kaggle.com/datasets/stephenpolozoff/top-beer-information?select=beer_data_set.csv\")\n",
    "\n",
    "beer = pd.read_csv(file, index_col=1)"
   ]
  },
  {
   "cell_type": "markdown",
   "metadata": {},
   "source": [
    "Per prima cosa vediamo se ci sono dei valori null e qualcosa ci siano li eliminiamo."
   ]
  },
  {
   "cell_type": "code",
   "execution_count": 516,
   "metadata": {},
   "outputs": [
    {
     "data": {
      "text/plain": [
       "Name           2\n",
       "Style          0\n",
       "Style Key      0\n",
       "Brewery        0\n",
       "Description    0\n",
       "ABV            0\n",
       "Ave Rating     0\n",
       "Min IBU        0\n",
       "Max IBU        0\n",
       "Astringency    0\n",
       "Body           0\n",
       "Alcohol        0\n",
       "Bitter         0\n",
       "Sweet          0\n",
       "Sour           0\n",
       "Salty          0\n",
       "Fruits         0\n",
       "Hoppy          0\n",
       "Spices         0\n",
       "Malty          0\n",
       "dtype: int64"
      ]
     },
     "execution_count": 516,
     "metadata": {},
     "output_type": "execute_result"
    }
   ],
   "source": [
    "beer.isnull().sum()"
   ]
  },
  {
   "cell_type": "code",
   "execution_count": 517,
   "metadata": {},
   "outputs": [
    {
     "name": "stdout",
     "output_type": "stream",
     "text": [
      "Name           0\n",
      "Style          0\n",
      "Style Key      0\n",
      "Brewery        0\n",
      "Description    0\n",
      "ABV            0\n",
      "Ave Rating     0\n",
      "Min IBU        0\n",
      "Max IBU        0\n",
      "Astringency    0\n",
      "Body           0\n",
      "Alcohol        0\n",
      "Bitter         0\n",
      "Sweet          0\n",
      "Sour           0\n",
      "Salty          0\n",
      "Fruits         0\n",
      "Hoppy          0\n",
      "Spices         0\n",
      "Malty          0\n",
      "dtype: int64\n"
     ]
    }
   ],
   "source": [
    "beer = beer.dropna()\n",
    "print(beer.isnull().sum())"
   ]
  },
  {
   "cell_type": "code",
   "execution_count": 518,
   "metadata": {},
   "outputs": [
    {
     "data": {
      "text/html": [
       "<div>\n",
       "<style scoped>\n",
       "    .dataframe tbody tr th:only-of-type {\n",
       "        vertical-align: middle;\n",
       "    }\n",
       "\n",
       "    .dataframe tbody tr th {\n",
       "        vertical-align: top;\n",
       "    }\n",
       "\n",
       "    .dataframe thead th {\n",
       "        text-align: right;\n",
       "    }\n",
       "</style>\n",
       "<table border=\"1\" class=\"dataframe\">\n",
       "  <thead>\n",
       "    <tr style=\"text-align: right;\">\n",
       "      <th></th>\n",
       "      <th>Name</th>\n",
       "      <th>Style</th>\n",
       "      <th>Style Key</th>\n",
       "      <th>Brewery</th>\n",
       "      <th>Description</th>\n",
       "      <th>ABV</th>\n",
       "      <th>Ave Rating</th>\n",
       "      <th>Min IBU</th>\n",
       "      <th>Max IBU</th>\n",
       "      <th>Astringency</th>\n",
       "      <th>Body</th>\n",
       "      <th>Alcohol</th>\n",
       "      <th>Bitter</th>\n",
       "      <th>Sweet</th>\n",
       "      <th>Sour</th>\n",
       "      <th>Salty</th>\n",
       "      <th>Fruits</th>\n",
       "      <th>Hoppy</th>\n",
       "      <th>Spices</th>\n",
       "      <th>Malty</th>\n",
       "    </tr>\n",
       "    <tr>\n",
       "      <th>key</th>\n",
       "      <th></th>\n",
       "      <th></th>\n",
       "      <th></th>\n",
       "      <th></th>\n",
       "      <th></th>\n",
       "      <th></th>\n",
       "      <th></th>\n",
       "      <th></th>\n",
       "      <th></th>\n",
       "      <th></th>\n",
       "      <th></th>\n",
       "      <th></th>\n",
       "      <th></th>\n",
       "      <th></th>\n",
       "      <th></th>\n",
       "      <th></th>\n",
       "      <th></th>\n",
       "      <th></th>\n",
       "      <th></th>\n",
       "      <th></th>\n",
       "    </tr>\n",
       "  </thead>\n",
       "  <tbody>\n",
       "    <tr>\n",
       "      <th>251</th>\n",
       "      <td>Amber</td>\n",
       "      <td>Altbier</td>\n",
       "      <td>8</td>\n",
       "      <td>Alaskan Brewing Co.</td>\n",
       "      <td>Notes:Richly malty and long on the palate, wit...</td>\n",
       "      <td>5.3</td>\n",
       "      <td>3.65</td>\n",
       "      <td>25</td>\n",
       "      <td>50</td>\n",
       "      <td>13</td>\n",
       "      <td>32</td>\n",
       "      <td>9</td>\n",
       "      <td>47</td>\n",
       "      <td>74</td>\n",
       "      <td>33</td>\n",
       "      <td>0</td>\n",
       "      <td>33</td>\n",
       "      <td>57</td>\n",
       "      <td>8</td>\n",
       "      <td>111</td>\n",
       "    </tr>\n",
       "  </tbody>\n",
       "</table>\n",
       "</div>"
      ],
      "text/plain": [
       "      Name    Style  Style Key              Brewery  \\\n",
       "key                                                   \n",
       "251  Amber  Altbier          8  Alaskan Brewing Co.   \n",
       "\n",
       "                                           Description  ABV  Ave Rating  \\\n",
       "key                                                                       \n",
       "251  Notes:Richly malty and long on the palate, wit...  5.3        3.65   \n",
       "\n",
       "     Min IBU  Max IBU  Astringency  Body  Alcohol  Bitter  Sweet  Sour  Salty  \\\n",
       "key                                                                             \n",
       "251       25       50           13    32        9      47     74    33      0   \n",
       "\n",
       "     Fruits  Hoppy  Spices  Malty  \n",
       "key                                \n",
       "251      33     57       8    111  "
      ]
     },
     "execution_count": 518,
     "metadata": {},
     "output_type": "execute_result"
    }
   ],
   "source": [
    "beer.head(1)"
   ]
  },
  {
   "cell_type": "markdown",
   "metadata": {},
   "source": [
    "Per il nostro specifico caso d'uso, non ci interessano tutti i dati presenti nel dataset, quindi rimuoviamo i dati non necessari."
   ]
  },
  {
   "cell_type": "code",
   "execution_count": 519,
   "metadata": {},
   "outputs": [],
   "source": [
    "beer.drop(columns=[\"Style Key\", \"Brewery\", \"Description\"], inplace=True)"
   ]
  },
  {
   "cell_type": "code",
   "execution_count": 520,
   "metadata": {},
   "outputs": [
    {
     "data": {
      "text/html": [
       "<div>\n",
       "<style scoped>\n",
       "    .dataframe tbody tr th:only-of-type {\n",
       "        vertical-align: middle;\n",
       "    }\n",
       "\n",
       "    .dataframe tbody tr th {\n",
       "        vertical-align: top;\n",
       "    }\n",
       "\n",
       "    .dataframe thead th {\n",
       "        text-align: right;\n",
       "    }\n",
       "</style>\n",
       "<table border=\"1\" class=\"dataframe\">\n",
       "  <thead>\n",
       "    <tr style=\"text-align: right;\">\n",
       "      <th></th>\n",
       "      <th>Name</th>\n",
       "      <th>Style</th>\n",
       "      <th>ABV</th>\n",
       "      <th>Ave Rating</th>\n",
       "      <th>Min IBU</th>\n",
       "      <th>Max IBU</th>\n",
       "      <th>Astringency</th>\n",
       "      <th>Body</th>\n",
       "      <th>Alcohol</th>\n",
       "      <th>Bitter</th>\n",
       "      <th>Sweet</th>\n",
       "      <th>Sour</th>\n",
       "      <th>Salty</th>\n",
       "      <th>Fruits</th>\n",
       "      <th>Hoppy</th>\n",
       "      <th>Spices</th>\n",
       "      <th>Malty</th>\n",
       "    </tr>\n",
       "    <tr>\n",
       "      <th>key</th>\n",
       "      <th></th>\n",
       "      <th></th>\n",
       "      <th></th>\n",
       "      <th></th>\n",
       "      <th></th>\n",
       "      <th></th>\n",
       "      <th></th>\n",
       "      <th></th>\n",
       "      <th></th>\n",
       "      <th></th>\n",
       "      <th></th>\n",
       "      <th></th>\n",
       "      <th></th>\n",
       "      <th></th>\n",
       "      <th></th>\n",
       "      <th></th>\n",
       "      <th></th>\n",
       "    </tr>\n",
       "  </thead>\n",
       "  <tbody>\n",
       "    <tr>\n",
       "      <th>251</th>\n",
       "      <td>Amber</td>\n",
       "      <td>Altbier</td>\n",
       "      <td>5.3</td>\n",
       "      <td>3.65</td>\n",
       "      <td>25</td>\n",
       "      <td>50</td>\n",
       "      <td>13</td>\n",
       "      <td>32</td>\n",
       "      <td>9</td>\n",
       "      <td>47</td>\n",
       "      <td>74</td>\n",
       "      <td>33</td>\n",
       "      <td>0</td>\n",
       "      <td>33</td>\n",
       "      <td>57</td>\n",
       "      <td>8</td>\n",
       "      <td>111</td>\n",
       "    </tr>\n",
       "  </tbody>\n",
       "</table>\n",
       "</div>"
      ],
      "text/plain": [
       "      Name    Style  ABV  Ave Rating  Min IBU  Max IBU  Astringency  Body  \\\n",
       "key                                                                         \n",
       "251  Amber  Altbier  5.3        3.65       25       50           13    32   \n",
       "\n",
       "     Alcohol  Bitter  Sweet  Sour  Salty  Fruits  Hoppy  Spices  Malty  \n",
       "key                                                                     \n",
       "251        9      47     74    33      0      33     57       8    111  "
      ]
     },
     "execution_count": 520,
     "metadata": {},
     "output_type": "execute_result"
    }
   ],
   "source": [
    "beer.head(1)"
   ]
  },
  {
   "cell_type": "markdown",
   "metadata": {},
   "source": [
    "Inoltre vogliamo creare una nuova variabile chiamata `Avg IBU` che rappresenta la media tra `Min IBU` e `Max IBU` e eliminare le due variabili. Rinominiamo anche la variabile `Ave Rating` in `Avg Rating`. Infine riordiniamo le colonne."
   ]
  },
  {
   "cell_type": "code",
   "execution_count": 521,
   "metadata": {},
   "outputs": [],
   "source": [
    "beer[\"Avg IBU\"] = beer[[\"Min IBU\", \"Max IBU\"]].mean(axis=1)\n",
    "beer.drop(columns=[\"Min IBU\", \"Max IBU\"], inplace=True)\n",
    "beer = beer.rename(columns={\"Ave Rating\": \"Avg Rating\"})\n",
    "beer = beer[[\"Name\", \"Style\", \"Avg IBU\", \"Avg Rating\", \"ABV\", \"Astringency\", \"Body\", \"Alcohol\", \"Bitter\", \"Sweet\", \"Sour\", \"Salty\", \"Fruits\", \"Hoppy\", \"Spices\", \"Malty\"]]"
   ]
  },
  {
   "cell_type": "code",
   "execution_count": 522,
   "metadata": {},
   "outputs": [
    {
     "data": {
      "text/html": [
       "<div>\n",
       "<style scoped>\n",
       "    .dataframe tbody tr th:only-of-type {\n",
       "        vertical-align: middle;\n",
       "    }\n",
       "\n",
       "    .dataframe tbody tr th {\n",
       "        vertical-align: top;\n",
       "    }\n",
       "\n",
       "    .dataframe thead th {\n",
       "        text-align: right;\n",
       "    }\n",
       "</style>\n",
       "<table border=\"1\" class=\"dataframe\">\n",
       "  <thead>\n",
       "    <tr style=\"text-align: right;\">\n",
       "      <th></th>\n",
       "      <th>Name</th>\n",
       "      <th>Style</th>\n",
       "      <th>Avg IBU</th>\n",
       "      <th>Avg Rating</th>\n",
       "      <th>ABV</th>\n",
       "      <th>Astringency</th>\n",
       "      <th>Body</th>\n",
       "      <th>Alcohol</th>\n",
       "      <th>Bitter</th>\n",
       "      <th>Sweet</th>\n",
       "      <th>Sour</th>\n",
       "      <th>Salty</th>\n",
       "      <th>Fruits</th>\n",
       "      <th>Hoppy</th>\n",
       "      <th>Spices</th>\n",
       "      <th>Malty</th>\n",
       "    </tr>\n",
       "    <tr>\n",
       "      <th>key</th>\n",
       "      <th></th>\n",
       "      <th></th>\n",
       "      <th></th>\n",
       "      <th></th>\n",
       "      <th></th>\n",
       "      <th></th>\n",
       "      <th></th>\n",
       "      <th></th>\n",
       "      <th></th>\n",
       "      <th></th>\n",
       "      <th></th>\n",
       "      <th></th>\n",
       "      <th></th>\n",
       "      <th></th>\n",
       "      <th></th>\n",
       "      <th></th>\n",
       "    </tr>\n",
       "  </thead>\n",
       "  <tbody>\n",
       "    <tr>\n",
       "      <th>251</th>\n",
       "      <td>Amber</td>\n",
       "      <td>Altbier</td>\n",
       "      <td>37.5</td>\n",
       "      <td>3.65</td>\n",
       "      <td>5.3</td>\n",
       "      <td>13</td>\n",
       "      <td>32</td>\n",
       "      <td>9</td>\n",
       "      <td>47</td>\n",
       "      <td>74</td>\n",
       "      <td>33</td>\n",
       "      <td>0</td>\n",
       "      <td>33</td>\n",
       "      <td>57</td>\n",
       "      <td>8</td>\n",
       "      <td>111</td>\n",
       "    </tr>\n",
       "    <tr>\n",
       "      <th>252</th>\n",
       "      <td>Double Bag</td>\n",
       "      <td>Altbier</td>\n",
       "      <td>37.5</td>\n",
       "      <td>3.90</td>\n",
       "      <td>7.2</td>\n",
       "      <td>12</td>\n",
       "      <td>57</td>\n",
       "      <td>18</td>\n",
       "      <td>33</td>\n",
       "      <td>55</td>\n",
       "      <td>16</td>\n",
       "      <td>0</td>\n",
       "      <td>24</td>\n",
       "      <td>35</td>\n",
       "      <td>12</td>\n",
       "      <td>84</td>\n",
       "    </tr>\n",
       "    <tr>\n",
       "      <th>253</th>\n",
       "      <td>Long Trail Ale</td>\n",
       "      <td>Altbier</td>\n",
       "      <td>37.5</td>\n",
       "      <td>3.58</td>\n",
       "      <td>5.0</td>\n",
       "      <td>14</td>\n",
       "      <td>37</td>\n",
       "      <td>6</td>\n",
       "      <td>42</td>\n",
       "      <td>43</td>\n",
       "      <td>11</td>\n",
       "      <td>0</td>\n",
       "      <td>10</td>\n",
       "      <td>54</td>\n",
       "      <td>4</td>\n",
       "      <td>62</td>\n",
       "    </tr>\n",
       "    <tr>\n",
       "      <th>254</th>\n",
       "      <td>Doppelsticke</td>\n",
       "      <td>Altbier</td>\n",
       "      <td>37.5</td>\n",
       "      <td>4.15</td>\n",
       "      <td>8.5</td>\n",
       "      <td>13</td>\n",
       "      <td>55</td>\n",
       "      <td>31</td>\n",
       "      <td>47</td>\n",
       "      <td>101</td>\n",
       "      <td>18</td>\n",
       "      <td>1</td>\n",
       "      <td>49</td>\n",
       "      <td>40</td>\n",
       "      <td>16</td>\n",
       "      <td>119</td>\n",
       "    </tr>\n",
       "    <tr>\n",
       "      <th>255</th>\n",
       "      <td>Scurry</td>\n",
       "      <td>Altbier</td>\n",
       "      <td>37.5</td>\n",
       "      <td>3.67</td>\n",
       "      <td>5.3</td>\n",
       "      <td>21</td>\n",
       "      <td>69</td>\n",
       "      <td>10</td>\n",
       "      <td>63</td>\n",
       "      <td>120</td>\n",
       "      <td>14</td>\n",
       "      <td>0</td>\n",
       "      <td>19</td>\n",
       "      <td>36</td>\n",
       "      <td>15</td>\n",
       "      <td>218</td>\n",
       "    </tr>\n",
       "  </tbody>\n",
       "</table>\n",
       "</div>"
      ],
      "text/plain": [
       "               Name    Style  Avg IBU  Avg Rating  ABV  Astringency  Body  \\\n",
       "key                                                                         \n",
       "251           Amber  Altbier     37.5        3.65  5.3           13    32   \n",
       "252      Double Bag  Altbier     37.5        3.90  7.2           12    57   \n",
       "253  Long Trail Ale  Altbier     37.5        3.58  5.0           14    37   \n",
       "254    Doppelsticke  Altbier     37.5        4.15  8.5           13    55   \n",
       "255          Scurry  Altbier     37.5        3.67  5.3           21    69   \n",
       "\n",
       "     Alcohol  Bitter  Sweet  Sour  Salty  Fruits  Hoppy  Spices  Malty  \n",
       "key                                                                     \n",
       "251        9      47     74    33      0      33     57       8    111  \n",
       "252       18      33     55    16      0      24     35      12     84  \n",
       "253        6      42     43    11      0      10     54       4     62  \n",
       "254       31      47    101    18      1      49     40      16    119  \n",
       "255       10      63    120    14      0      19     36      15    218  "
      ]
     },
     "execution_count": 522,
     "metadata": {},
     "output_type": "execute_result"
    }
   ],
   "source": [
    "beer.head()"
   ]
  },
  {
   "cell_type": "markdown",
   "metadata": {},
   "source": [
    "### Analisi esplorativa dei dati"
   ]
  },
  {
   "cell_type": "markdown",
   "metadata": {},
   "source": [
    "Per prima cosa visualizziamo i dati in nostro possesso, in particolare quante birre distinte ci sono e quanti stili di birra sono presenti."
   ]
  },
  {
   "cell_type": "code",
   "execution_count": 523,
   "metadata": {},
   "outputs": [
    {
     "name": "stdout",
     "output_type": "stream",
     "text": [
      "Numero di birre:  5317\n",
      "Numero di stili:  112\n"
     ]
    }
   ],
   "source": [
    "print(\"Numero di birre: \", beer[\"Name\"].nunique())\n",
    "print(\"Numero di stili: \", beer[\"Style\"].nunique())"
   ]
  },
  {
   "cell_type": "markdown",
   "metadata": {},
   "source": [
    "Visualizziamo il numero di birre per ogni stile presente nel dataset."
   ]
  },
  {
   "cell_type": "code",
   "execution_count": 524,
   "metadata": {},
   "outputs": [
    {
     "data": {
      "text/plain": [
       "Style\n",
       "Altbier                           50\n",
       "Lager - Märzen / Oktoberfest      50\n",
       "Red Ale - Imperial                50\n",
       "Red Ale - American Amber / Red    50\n",
       "Quadrupel (Quad)                  50\n",
       "                                  ..\n",
       "Sour - Flanders Oud Bruin         49\n",
       "Sour - Flanders Red Ale           49\n",
       "Lager - European Pale             49\n",
       "Sour - Gose                       49\n",
       "Lambic - Faro                     16\n",
       "Name: count, Length: 112, dtype: int64"
      ]
     },
     "execution_count": 524,
     "metadata": {},
     "output_type": "execute_result"
    }
   ],
   "source": [
    "beer.value_counts(\"Style\")"
   ]
  },
  {
   "cell_type": "code",
   "execution_count": 525,
   "metadata": {},
   "outputs": [
    {
     "data": {
      "text/plain": [
       "49.607142857142854"
      ]
     },
     "execution_count": 525,
     "metadata": {},
     "output_type": "execute_result"
    }
   ],
   "source": [
    "beer.value_counts(\"Style\").mean()"
   ]
  },
  {
   "cell_type": "markdown",
   "metadata": {},
   "source": [
    "Notiamo che sono in media ci sono circa 50 birre per stile di birra."
   ]
  },
  {
   "cell_type": "markdown",
   "metadata": {},
   "source": [
    "Attraverso la funzione describe possiamo ottenere informazioni statistiche sulle variabili numeriche del nostro dataset."
   ]
  },
  {
   "cell_type": "code",
   "execution_count": 526,
   "metadata": {},
   "outputs": [
    {
     "data": {
      "text/html": [
       "<div>\n",
       "<style scoped>\n",
       "    .dataframe tbody tr th:only-of-type {\n",
       "        vertical-align: middle;\n",
       "    }\n",
       "\n",
       "    .dataframe tbody tr th {\n",
       "        vertical-align: top;\n",
       "    }\n",
       "\n",
       "    .dataframe thead th {\n",
       "        text-align: right;\n",
       "    }\n",
       "</style>\n",
       "<table border=\"1\" class=\"dataframe\">\n",
       "  <thead>\n",
       "    <tr style=\"text-align: right;\">\n",
       "      <th></th>\n",
       "      <th>Avg IBU</th>\n",
       "      <th>Avg Rating</th>\n",
       "      <th>ABV</th>\n",
       "      <th>Astringency</th>\n",
       "      <th>Body</th>\n",
       "      <th>Alcohol</th>\n",
       "      <th>Bitter</th>\n",
       "      <th>Sweet</th>\n",
       "      <th>Sour</th>\n",
       "      <th>Salty</th>\n",
       "      <th>Fruits</th>\n",
       "      <th>Hoppy</th>\n",
       "      <th>Spices</th>\n",
       "      <th>Malty</th>\n",
       "    </tr>\n",
       "  </thead>\n",
       "  <tbody>\n",
       "    <tr>\n",
       "      <th>count</th>\n",
       "      <td>5556.000000</td>\n",
       "      <td>5556.000000</td>\n",
       "      <td>5556.000000</td>\n",
       "      <td>5556.000000</td>\n",
       "      <td>5556.000000</td>\n",
       "      <td>5556.000000</td>\n",
       "      <td>5556.000000</td>\n",
       "      <td>5556.000000</td>\n",
       "      <td>5556.000000</td>\n",
       "      <td>5556.000000</td>\n",
       "      <td>5556.000000</td>\n",
       "      <td>5556.000000</td>\n",
       "      <td>5556.000000</td>\n",
       "      <td>5556.000000</td>\n",
       "    </tr>\n",
       "    <tr>\n",
       "      <th>mean</th>\n",
       "      <td>29.590713</td>\n",
       "      <td>3.760481</td>\n",
       "      <td>6.634948</td>\n",
       "      <td>15.941505</td>\n",
       "      <td>42.752880</td>\n",
       "      <td>15.978402</td>\n",
       "      <td>34.322174</td>\n",
       "      <td>53.630490</td>\n",
       "      <td>34.619330</td>\n",
       "      <td>1.314435</td>\n",
       "      <td>39.386609</td>\n",
       "      <td>38.421166</td>\n",
       "      <td>17.588553</td>\n",
       "      <td>68.599172</td>\n",
       "    </tr>\n",
       "    <tr>\n",
       "      <th>std</th>\n",
       "      <td>17.336884</td>\n",
       "      <td>0.442848</td>\n",
       "      <td>2.521077</td>\n",
       "      <td>11.625370</td>\n",
       "      <td>28.592263</td>\n",
       "      <td>18.270748</td>\n",
       "      <td>27.121062</td>\n",
       "      <td>35.867233</td>\n",
       "      <td>39.854361</td>\n",
       "      <td>3.874765</td>\n",
       "      <td>36.655173</td>\n",
       "      <td>31.916471</td>\n",
       "      <td>23.976975</td>\n",
       "      <td>44.604752</td>\n",
       "    </tr>\n",
       "    <tr>\n",
       "      <th>min</th>\n",
       "      <td>0.000000</td>\n",
       "      <td>1.270000</td>\n",
       "      <td>0.000000</td>\n",
       "      <td>0.000000</td>\n",
       "      <td>0.000000</td>\n",
       "      <td>0.000000</td>\n",
       "      <td>0.000000</td>\n",
       "      <td>0.000000</td>\n",
       "      <td>0.000000</td>\n",
       "      <td>0.000000</td>\n",
       "      <td>0.000000</td>\n",
       "      <td>0.000000</td>\n",
       "      <td>0.000000</td>\n",
       "      <td>0.000000</td>\n",
       "    </tr>\n",
       "    <tr>\n",
       "      <th>25%</th>\n",
       "      <td>20.000000</td>\n",
       "      <td>3.590000</td>\n",
       "      <td>5.000000</td>\n",
       "      <td>8.000000</td>\n",
       "      <td>25.000000</td>\n",
       "      <td>5.000000</td>\n",
       "      <td>13.000000</td>\n",
       "      <td>27.000000</td>\n",
       "      <td>9.000000</td>\n",
       "      <td>0.000000</td>\n",
       "      <td>10.000000</td>\n",
       "      <td>14.000000</td>\n",
       "      <td>4.000000</td>\n",
       "      <td>33.000000</td>\n",
       "    </tr>\n",
       "    <tr>\n",
       "      <th>50%</th>\n",
       "      <td>25.000000</td>\n",
       "      <td>3.820000</td>\n",
       "      <td>6.000000</td>\n",
       "      <td>14.000000</td>\n",
       "      <td>38.000000</td>\n",
       "      <td>10.000000</td>\n",
       "      <td>29.000000</td>\n",
       "      <td>49.500000</td>\n",
       "      <td>21.000000</td>\n",
       "      <td>0.000000</td>\n",
       "      <td>28.000000</td>\n",
       "      <td>30.000000</td>\n",
       "      <td>9.000000</td>\n",
       "      <td>65.000000</td>\n",
       "    </tr>\n",
       "    <tr>\n",
       "      <th>75%</th>\n",
       "      <td>37.500000</td>\n",
       "      <td>4.040000</td>\n",
       "      <td>7.900000</td>\n",
       "      <td>22.000000</td>\n",
       "      <td>55.000000</td>\n",
       "      <td>20.000000</td>\n",
       "      <td>51.000000</td>\n",
       "      <td>74.000000</td>\n",
       "      <td>44.000000</td>\n",
       "      <td>1.000000</td>\n",
       "      <td>62.000000</td>\n",
       "      <td>56.000000</td>\n",
       "      <td>22.000000</td>\n",
       "      <td>99.000000</td>\n",
       "    </tr>\n",
       "    <tr>\n",
       "      <th>max</th>\n",
       "      <td>82.500000</td>\n",
       "      <td>4.830000</td>\n",
       "      <td>57.500000</td>\n",
       "      <td>83.000000</td>\n",
       "      <td>197.000000</td>\n",
       "      <td>139.000000</td>\n",
       "      <td>150.000000</td>\n",
       "      <td>263.000000</td>\n",
       "      <td>323.000000</td>\n",
       "      <td>66.000000</td>\n",
       "      <td>222.000000</td>\n",
       "      <td>193.000000</td>\n",
       "      <td>184.000000</td>\n",
       "      <td>304.000000</td>\n",
       "    </tr>\n",
       "  </tbody>\n",
       "</table>\n",
       "</div>"
      ],
      "text/plain": [
       "           Avg IBU   Avg Rating          ABV  Astringency         Body  \\\n",
       "count  5556.000000  5556.000000  5556.000000  5556.000000  5556.000000   \n",
       "mean     29.590713     3.760481     6.634948    15.941505    42.752880   \n",
       "std      17.336884     0.442848     2.521077    11.625370    28.592263   \n",
       "min       0.000000     1.270000     0.000000     0.000000     0.000000   \n",
       "25%      20.000000     3.590000     5.000000     8.000000    25.000000   \n",
       "50%      25.000000     3.820000     6.000000    14.000000    38.000000   \n",
       "75%      37.500000     4.040000     7.900000    22.000000    55.000000   \n",
       "max      82.500000     4.830000    57.500000    83.000000   197.000000   \n",
       "\n",
       "           Alcohol       Bitter        Sweet         Sour        Salty  \\\n",
       "count  5556.000000  5556.000000  5556.000000  5556.000000  5556.000000   \n",
       "mean     15.978402    34.322174    53.630490    34.619330     1.314435   \n",
       "std      18.270748    27.121062    35.867233    39.854361     3.874765   \n",
       "min       0.000000     0.000000     0.000000     0.000000     0.000000   \n",
       "25%       5.000000    13.000000    27.000000     9.000000     0.000000   \n",
       "50%      10.000000    29.000000    49.500000    21.000000     0.000000   \n",
       "75%      20.000000    51.000000    74.000000    44.000000     1.000000   \n",
       "max     139.000000   150.000000   263.000000   323.000000    66.000000   \n",
       "\n",
       "            Fruits        Hoppy       Spices        Malty  \n",
       "count  5556.000000  5556.000000  5556.000000  5556.000000  \n",
       "mean     39.386609    38.421166    17.588553    68.599172  \n",
       "std      36.655173    31.916471    23.976975    44.604752  \n",
       "min       0.000000     0.000000     0.000000     0.000000  \n",
       "25%      10.000000    14.000000     4.000000    33.000000  \n",
       "50%      28.000000    30.000000     9.000000    65.000000  \n",
       "75%      62.000000    56.000000    22.000000    99.000000  \n",
       "max     222.000000   193.000000   184.000000   304.000000  "
      ]
     },
     "execution_count": 526,
     "metadata": {},
     "output_type": "execute_result"
    }
   ],
   "source": [
    "beer.describe()"
   ]
  },
  {
   "cell_type": "markdown",
   "metadata": {},
   "source": [
    "Mostriamo ora la distribuzione delle birre in base alla gradazione alcolica."
   ]
  },
  {
   "cell_type": "code",
   "execution_count": 527,
   "metadata": {},
   "outputs": [
    {
     "data": {
      "image/png": "[encoded data removed]",
      "text/plain": [
       "<Figure size 1000x500 with 1 Axes>"
      ]
     },
     "metadata": {},
     "output_type": "display_data"
    }
   ],
   "source": [
    "def plot_ABV():\n",
    "    plt.figure(figsize=(10, 5))\n",
    "    plt.bar(beer[\"ABV\"].value_counts().index, beer[\"ABV\"].value_counts().values, width=0.2)\n",
    "    plt.xlabel(\"ABV\")\n",
    "    plt.xticks(np.arange(0, 60, 5)) # Rimuovo i valori di ABV superiori a 20% per una migliore visualizzazione\n",
    "    plt.ylabel(\"Count\")\n",
    "    plt.title(\"Alcohol by Volume Distribution\")\n",
    "    plt.show()\n",
    "    \n",
    "plot_ABV()"
   ]
  },
  {
   "cell_type": "markdown",
   "metadata": {},
   "source": [
    "Possiamo notare che la maggior parte delle birre ha gradazione alcolica compresa tra 5% e 10%. \\\n",
    "Inoltre, possiamo notare un caso limite di una birra con gradazione alcolica pari a 57.5%. \\\n",
    "D'ora un poi considereremo solo le birre con gradazione alcolica compresa tra 0% e 20%."
   ]
  },
  {
   "cell_type": "code",
   "execution_count": 528,
   "metadata": {},
   "outputs": [
    {
     "data": {
      "text/html": [
       "<div>\n",
       "<style scoped>\n",
       "    .dataframe tbody tr th:only-of-type {\n",
       "        vertical-align: middle;\n",
       "    }\n",
       "\n",
       "    .dataframe tbody tr th {\n",
       "        vertical-align: top;\n",
       "    }\n",
       "\n",
       "    .dataframe thead th {\n",
       "        text-align: right;\n",
       "    }\n",
       "</style>\n",
       "<table border=\"1\" class=\"dataframe\">\n",
       "  <thead>\n",
       "    <tr style=\"text-align: right;\">\n",
       "      <th></th>\n",
       "      <th>Name</th>\n",
       "      <th>Style</th>\n",
       "      <th>Avg IBU</th>\n",
       "      <th>Avg Rating</th>\n",
       "      <th>ABV</th>\n",
       "      <th>Astringency</th>\n",
       "      <th>Body</th>\n",
       "      <th>Alcohol</th>\n",
       "      <th>Bitter</th>\n",
       "      <th>Sweet</th>\n",
       "      <th>Sour</th>\n",
       "      <th>Salty</th>\n",
       "      <th>Fruits</th>\n",
       "      <th>Hoppy</th>\n",
       "      <th>Spices</th>\n",
       "      <th>Malty</th>\n",
       "    </tr>\n",
       "    <tr>\n",
       "      <th>key</th>\n",
       "      <th></th>\n",
       "      <th></th>\n",
       "      <th></th>\n",
       "      <th></th>\n",
       "      <th></th>\n",
       "      <th></th>\n",
       "      <th></th>\n",
       "      <th></th>\n",
       "      <th></th>\n",
       "      <th></th>\n",
       "      <th></th>\n",
       "      <th></th>\n",
       "      <th></th>\n",
       "      <th></th>\n",
       "      <th></th>\n",
       "      <th></th>\n",
       "    </tr>\n",
       "  </thead>\n",
       "  <tbody>\n",
       "    <tr>\n",
       "      <th>75</th>\n",
       "      <td>Schorschbock 57%</td>\n",
       "      <td>Bock - Eisbock</td>\n",
       "      <td>30.0</td>\n",
       "      <td>2.97</td>\n",
       "      <td>57.5</td>\n",
       "      <td>0</td>\n",
       "      <td>7</td>\n",
       "      <td>17</td>\n",
       "      <td>3</td>\n",
       "      <td>9</td>\n",
       "      <td>6</td>\n",
       "      <td>0</td>\n",
       "      <td>10</td>\n",
       "      <td>0</td>\n",
       "      <td>2</td>\n",
       "      <td>4</td>\n",
       "    </tr>\n",
       "  </tbody>\n",
       "</table>\n",
       "</div>"
      ],
      "text/plain": [
       "                  Name           Style  Avg IBU  Avg Rating   ABV  \\\n",
       "key                                                                 \n",
       "75    Schorschbock 57%  Bock - Eisbock     30.0        2.97  57.5   \n",
       "\n",
       "     Astringency  Body  Alcohol  Bitter  Sweet  Sour  Salty  Fruits  Hoppy  \\\n",
       "key                                                                          \n",
       "75             0     7       17       3      9     6      0      10      0   \n",
       "\n",
       "     Spices  Malty  \n",
       "key                 \n",
       "75        2      4  "
      ]
     },
     "execution_count": 528,
     "metadata": {},
     "output_type": "execute_result"
    }
   ],
   "source": [
    "beer[beer[\"ABV\"] == beer[\"ABV\"].max()]"
   ]
  },
  {
   "cell_type": "code",
   "execution_count": 529,
   "metadata": {},
   "outputs": [],
   "source": [
    "beer = beer[beer[\"ABV\"] < 20]"
   ]
  },
  {
   "cell_type": "markdown",
   "metadata": {},
   "source": [
    "Proviamo a vedere se esiste una correlazione tra la gradazione alcolica e la valutazione media della birra.\n",
    "Per fare ciò utilizziamo un grafico di dispersione eliminando le birre con gradazione alcolica superiore al 20%."
   ]
  },
  {
   "cell_type": "code",
   "execution_count": 530,
   "metadata": {},
   "outputs": [
    {
     "data": {
      "text/plain": [
       "<Axes: xlabel='ABV'>"
      ]
     },
     "execution_count": 530,
     "metadata": {},
     "output_type": "execute_result"
    },
    {
     "data": {
      "image/png": "[encoded data removed]",
      "text/plain": [
       "<Figure size 3000x500 with 1 Axes>"
      ]
     },
     "metadata": {},
     "output_type": "display_data"
    }
   ],
   "source": [
    "beer = beer.round(1)\n",
    "beer.groupby(\"ABV\")[\"Avg Rating\"].mean().plot.bar(figsize=(30, 5))"
   ]
  },
  {
   "cell_type": "markdown",
   "metadata": {},
   "source": [
    "Come si può notare, non esiste una correlazione significativa tra la gradazione alcolica e la valutazione media della birra."
   ]
  },
  {
   "cell_type": "markdown",
   "metadata": {},
   "source": [
    "Di seguito troviamo una funzione generica che ci permette di visualizzare le caratteristiche in un grafico a barre e in un grafico a torta."
   ]
  },
  {
   "cell_type": "code",
   "execution_count": 531,
   "metadata": {},
   "outputs": [],
   "source": [
    "def plot_characteristics(filter_type, filter_value):\n",
    "    if filter_type not in [\"Style\", \"Name\"]:\n",
    "        print(\"Invalid filter type. Please choose 'Style' or 'Name'.\")\n",
    "        return\n",
    "    filtered_data = beer[beer[filter_type] == filter_value]\n",
    "    filtered_data = filtered_data.drop(columns=[\"Name\", \"Style\"])\n",
    "    filtered_data = filtered_data.mean()\n",
    "    \n",
    "    fig, axs = plt.subplots(1, 2, figsize=(10, 5))\n",
    "    \n",
    "    cmap = plt.get_cmap(\"tab20\")\n",
    "    colors = cmap(np.arange(len(filtered_data)))\n",
    "    \n",
    "    filtered_data.plot(kind=\"bar\", title=filter_type + \": \" + filter_value, ax=axs[0], color=colors)\n",
    "    filtered_data.plot(kind=\"pie\", title=filter_type + \": \" + filter_value, ax=axs[1], colors=colors)\n",
    "    \n",
    "    plt.tight_layout()\n",
    "    plt.show()"
   ]
  },
  {
   "cell_type": "markdown",
   "metadata": {},
   "source": [
    "Sfruttiamo la funzione per mostrare le caratteristiche generali di uno specifico stile di birra. \\\n",
    "Notiamo che le birre di stile \"Red Ale - Imperial\" sono piuttosto luppolate e maltate."
   ]
  },
  {
   "cell_type": "code",
   "execution_count": 532,
   "metadata": {},
   "outputs": [
    {
     "data": {
      "image/png": "[encoded data removed]",
      "text/plain": [
       "<Figure size 1000x500 with 2 Axes>"
      ]
     },
     "metadata": {},
     "output_type": "display_data"
    }
   ],
   "source": [
    "plot_characteristics(\"Style\", \"Red Ale - Imperial\")"
   ]
  },
  {
   "cell_type": "markdown",
   "metadata": {},
   "source": [
    "Invece, ora visualizziamo le caratteristiche di una birra specifica. \\\n",
    "Notiamo che la birra \"Long Trail Ale\" è molto speziata e maltata."
   ]
  },
  {
   "cell_type": "code",
   "execution_count": 533,
   "metadata": {},
   "outputs": [
    {
     "data": {
      "image/png": "[encoded data removed]",
      "text/plain": [
       "<Figure size 1000x500 with 2 Axes>"
      ]
     },
     "metadata": {},
     "output_type": "display_data"
    }
   ],
   "source": [
    "plot_characteristics(\"Name\", \"Red Nose Winter Ale\")"
   ]
  },
  {
   "cell_type": "markdown",
   "metadata": {},
   "source": [
    "### Preparazione dei dati"
   ]
  },
  {
   "cell_type": "markdown",
   "metadata": {},
   "source": [
    "Dopo la fase di analisi espolorativa dei dati, prepariamo i dati per l'addestramento del modello. \\\n",
    "I dati che ci interessano sono le caratteristiche della birra e lo stile della birra. \\\n",
    "In particolare avremo bisongo di:\n",
    "* `Style` &rarr; stile della birra\n",
    "* `Avg IBU` &rarr; media tra `Min IBU` e `Max IBU`\n",
    "* `Avg Rating` &rarr; valutazione media della birra\n",
    "* `ABV` &rarr; gradazione alcolica della birra \n",
    "* `Astringency` &rarr; astringenza della birra\n",
    "* `Body` &rarr; corpo della birra\n",
    "* `Alcohol` &rarr; quanto si sente l'alcol nella birra\n",
    "* `Bitter` &rarr; amarezza della birra\n",
    "* `Sweet` &rarr; dolcezza della birra\n",
    "* `Sour` &rarr; acidità della birra\n",
    "* `Salty` &rarr; quanto è salata la birra\n",
    "* `Fruits` &rarr; quanto è fruttata la birra\n",
    "* `Hoppy` &rarr; quanto è luppolata la birra\n",
    "* `Spices` &rarr; quanto è speziata la birra\n",
    "* `Malty` &rarr; quanto è maltata la birra"
   ]
  },
  {
   "cell_type": "markdown",
   "metadata": {},
   "source": [
    "Sapendo cosa ci interessa creiamo le due nuove variabile che ci serviranno per addestrare il modello:\n",
    "* `y` &rarr; variabile target, rappresenta lo stile della birra\n",
    "* `X` &rarr; variabile indipendente, rappresenta l'insieme delle caratteristiche della birra "
   ]
  },
  {
   "cell_type": "code",
   "execution_count": 536,
   "metadata": {},
   "outputs": [
    {
     "data": {
      "text/html": [
       "<div>\n",
       "<style scoped>\n",
       "    .dataframe tbody tr th:only-of-type {\n",
       "        vertical-align: middle;\n",
       "    }\n",
       "\n",
       "    .dataframe tbody tr th {\n",
       "        vertical-align: top;\n",
       "    }\n",
       "\n",
       "    .dataframe thead th {\n",
       "        text-align: right;\n",
       "    }\n",
       "</style>\n",
       "<table border=\"1\" class=\"dataframe\">\n",
       "  <thead>\n",
       "    <tr style=\"text-align: right;\">\n",
       "      <th></th>\n",
       "      <th>Avg IBU</th>\n",
       "      <th>Avg Rating</th>\n",
       "      <th>ABV</th>\n",
       "      <th>Astringency</th>\n",
       "      <th>Body</th>\n",
       "      <th>Alcohol</th>\n",
       "      <th>Bitter</th>\n",
       "      <th>Sweet</th>\n",
       "      <th>Sour</th>\n",
       "      <th>Salty</th>\n",
       "      <th>Fruits</th>\n",
       "      <th>Hoppy</th>\n",
       "      <th>Spices</th>\n",
       "      <th>Malty</th>\n",
       "    </tr>\n",
       "    <tr>\n",
       "      <th>key</th>\n",
       "      <th></th>\n",
       "      <th></th>\n",
       "      <th></th>\n",
       "      <th></th>\n",
       "      <th></th>\n",
       "      <th></th>\n",
       "      <th></th>\n",
       "      <th></th>\n",
       "      <th></th>\n",
       "      <th></th>\n",
       "      <th></th>\n",
       "      <th></th>\n",
       "      <th></th>\n",
       "      <th></th>\n",
       "    </tr>\n",
       "  </thead>\n",
       "  <tbody>\n",
       "    <tr>\n",
       "      <th>251</th>\n",
       "      <td>37.5</td>\n",
       "      <td>3.6</td>\n",
       "      <td>5.3</td>\n",
       "      <td>13</td>\n",
       "      <td>32</td>\n",
       "      <td>9</td>\n",
       "      <td>47</td>\n",
       "      <td>74</td>\n",
       "      <td>33</td>\n",
       "      <td>0</td>\n",
       "      <td>33</td>\n",
       "      <td>57</td>\n",
       "      <td>8</td>\n",
       "      <td>111</td>\n",
       "    </tr>\n",
       "  </tbody>\n",
       "</table>\n",
       "</div>"
      ],
      "text/plain": [
       "     Avg IBU  Avg Rating  ABV  Astringency  Body  Alcohol  Bitter  Sweet  \\\n",
       "key                                                                        \n",
       "251     37.5         3.6  5.3           13    32        9      47     74   \n",
       "\n",
       "     Sour  Salty  Fruits  Hoppy  Spices  Malty  \n",
       "key                                             \n",
       "251    33      0      33     57       8    111  "
      ]
     },
     "execution_count": 536,
     "metadata": {},
     "output_type": "execute_result"
    }
   ],
   "source": [
    "y = beer[\"Style\"]\n",
    "X = beer[[col for col in beer.columns if col != \"Style\" and col != \"Name\"]]"
   ]
  },
  {
   "cell_type": "markdown",
   "metadata": {},
   "source": [
    "A questo punto bisogna suddividere i dati in training set e validation set. \\\n",
    "Decidiamo di avere 1/3 dei dati nel validation set e 2/3 dei dati nel training set."
   ]
  },
  {
   "cell_type": "code",
   "execution_count": 535,
   "metadata": {},
   "outputs": [],
   "source": [
    "from sklearn.model_selection import train_test_split\n",
    "\n",
    "X_train, X_val, y_train, y_val = train_test_split(\n",
    "    X, y,\n",
    "    test_size=1/3,\n",
    "    random_state=42\n",
    ")"
   ]
  }
 ],
 "metadata": {
  "kernelspec": {
   "display_name": "Python 3",
   "language": "python",
   "name": "python3"
  },
  "language_info": {
   "codemirror_mode": {
    "name": "ipython",
    "version": 3
   },
   "file_extension": ".py",
   "mimetype": "text/x-python",
   "name": "python",
   "nbconvert_exporter": "python",
   "pygments_lexer": "ipython3",
   "version": "3.11.3"
  }
 },
 "nbformat": 4,
 "nbformat_minor": 2
}
